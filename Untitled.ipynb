{
 "cells": [
  {
   "cell_type": "code",
   "execution_count": 28,
   "metadata": {},
   "outputs": [],
   "source": [
    "import numpy as np\n",
    "import pandas as pd\n",
    "\n",
    "\n",
    "class DecisionTreeFromScratch:\n",
    "    def __init__(self, X, y, idx, min_samples_leaf = 5):    \n",
    "        self.X, self.y, self.idx, self.min_samples_leaf = np.array(X), np.array(y), idx, min_samples_leaf\n",
    "        self.n, self.p = len(idx), X.shape[1]\n",
    "        self.score = float('inf')\n",
    "        self.val = np.mean(y[idx])\n",
    "        self.best_var_split()\n",
    "                \n",
    "    def best_var_split(self):\n",
    "        for j in range(self.p): self.find_var_split(j)\n",
    "        if self.score == float('inf'): return\n",
    "        x = self.X[self.idx, self.var_idx]\n",
    "        lhs = np.nonzero(x <= self.split)\n",
    "        rhs = np.nonzero(x > self.split)\n",
    "        self.lhs = DecisionTreeFromScratch(self.X, self.y, self.idx[lhs])\n",
    "        self.rhs = DecisionTreeFromScratch(self.X, self.y, self.idx[rhs])\n",
    "                \n",
    "    def find_var_split(self, var_idx):    \n",
    "        x, y = self.X[self.idx, var_idx], self.y[self.idx]\n",
    "        sort_idx = np.argsort(x)\n",
    "        sort_y, sort_x = y[sort_idx], x[sort_idx]\n",
    "        lhs_count, rhs_count =  0, self.n\n",
    "        for j in range(self.n - self.min_samples_leaf - 1):\n",
    "            xj = sort_x[j]\n",
    "            lhs_count += 1; rhs_count -= 1\n",
    "            if j < self.min_samples_leaf or sort_x[j+1] == xj: continue        \n",
    "            aggregated_score = np.std(sort_y[:j])*lhs_count + np.std(sort_y[j:])*rhs_count\n",
    "            if aggregated_score < self.score: \n",
    "                self.score, self.split, self.var_idx = aggregated_score, xj, var_idx"
   ]
  },
  {
   "cell_type": "code",
   "execution_count": 29,
   "metadata": {},
   "outputs": [],
   "source": [
    "from sklearn.datasets import make_regression\n",
    "x,y = make_regression(n_samples=1000, n_features=50, n_informative=5, random_state=0)\n",
    "idx = np.arange(1000)\n"
   ]
  },
  {
   "cell_type": "code",
   "execution_count": 31,
   "metadata": {},
   "outputs": [],
   "source": [
    "tree = DecisionTreeFromScratch(x, y, idx, min_samples_leaf = 20)"
   ]
  },
  {
   "cell_type": "code",
   "execution_count": 25,
   "metadata": {},
   "outputs": [
    {
     "data": {
      "text/plain": [
       "(-0.014857703354702717, 11)"
      ]
     },
     "execution_count": 25,
     "metadata": {},
     "output_type": "execute_result"
    }
   ],
   "source": [
    "tree.split, tree.var_idx"
   ]
  },
  {
   "cell_type": "code",
   "execution_count": 32,
   "metadata": {},
   "outputs": [
    {
     "data": {
      "text/plain": [
       "((0.3383155392256595, 25), (-0.867173439472024, 25))"
      ]
     },
     "execution_count": 32,
     "metadata": {},
     "output_type": "execute_result"
    }
   ],
   "source": [
    "(tree.lhs.split, tree.lhs.var_idx), (tree.rhs.split, tree.rhs.var_idx)"
   ]
  }
 ],
 "metadata": {
  "kernelspec": {
   "display_name": "Python 3",
   "language": "python",
   "name": "python3"
  },
  "language_info": {
   "codemirror_mode": {
    "name": "ipython",
    "version": 3
   },
   "file_extension": ".py",
   "mimetype": "text/x-python",
   "name": "python",
   "nbconvert_exporter": "python",
   "pygments_lexer": "ipython3",
   "version": "3.8.3"
  }
 },
 "nbformat": 4,
 "nbformat_minor": 4
}
