{
  "nbformat": 4,
  "nbformat_minor": 0,
  "metadata": {
    "kernelspec": {
      "display_name": "Python 3",
      "language": "python",
      "name": "python3"
    },
    "language_info": {
      "codemirror_mode": {
        "name": "ipython",
        "version": 3
      },
      "file_extension": ".py",
      "mimetype": "text/x-python",
      "name": "python",
      "nbconvert_exporter": "python",
      "pygments_lexer": "ipython3",
      "version": "3.8.3"
    },
    "colab": {
      "name": "Untitled.ipynb",
      "provenance": [],
      "include_colab_link": true
    }
  },
  "cells": [
    {
      "cell_type": "markdown",
      "metadata": {
        "id": "view-in-github",
        "colab_type": "text"
      },
      "source": [
        "<a href=\"https://colab.research.google.com/github/yonpier/ml-yon/blob/main/RandomForestFromScratch.ipynb\" target=\"_parent\"><img src=\"https://colab.research.google.com/assets/colab-badge.svg\" alt=\"Open In Colab\"/></a>"
      ]
    },
    {
      "cell_type": "markdown",
      "metadata": {
        "id": "n7iaogFSzl-_"
      },
      "source": [
        "#  Random Forest from scratch"
      ]
    },
    {
      "cell_type": "markdown",
      "metadata": {
        "id": "Why-rbJnzl_A"
      },
      "source": [
        "We test our own implementation of Random Forest on the House prices dataset that is part of a Kaggle competition (https://www.kaggle.com/c/house-prices-advanced-regression-techniques) and then we compare it to sklearn base rf estimator. We then use methods from the class to do some interpretation."
      ]
    },
    {
      "cell_type": "markdown",
      "metadata": {
        "id": "neNC-wyNzl_B"
      },
      "source": [
        "##  TreeEnsemble class"
      ]
    },
    {
      "cell_type": "code",
      "metadata": {
        "id": "pQFoP2jLzl_B"
      },
      "source": [
        "import numpy as np\n",
        "import pandas as pd\n",
        "import math as math\n",
        "\n",
        "\n",
        "\n",
        "class TreeEnsemble():\n",
        "    \"\"\"\n",
        "    \n",
        "    Parameters:\n",
        "        x : Pandas DataFrame object.\n",
        "        y : array-like object.\n",
        "        n_trees : int, number of trees in the forest.\n",
        "        sample_sz : int, the number of samples to draw from x.\n",
        "        min_leaf : int, the minimum number of samples required to be at a leaf node. \n",
        "    \n",
        "    Methods:\n",
        "        create_tree() : calls DecisionTree class to create a tree\n",
        "        predict(x) : returns prediction for a given DataFrame\n",
        "        score(x, y) : returns root-mean-square error\n",
        "        feature_imp() : returns feature importance by permutation method\n",
        "        partial_dependence(var_name) : returns predictions for every value of var_name\n",
        "                                        all other things being equal\n",
        "        confidence_std(x) : returns standard deviation of predictions for each rows\n",
        "        \n",
        "        \n",
        "    \"\"\"\n",
        "    \n",
        "    def __init__(self, x, y, n_trees, sample_sz, min_leaf=5):\n",
        "        np.random.seed(42)\n",
        "        self.x, self.y, self.sample_sz, self.min_leaf = x, np.array(y), sample_sz, min_leaf\n",
        "        self.trees = [self.create_tree() for i in range(n_trees)]\n",
        "  \n",
        "    def create_tree(self):\n",
        "        idxs = np.random.permutation(len(self.y))[:self.sample_sz]\n",
        "        return DecisionTree(self.x.iloc[idxs], self.y[idxs], idxs=np.array(range(self.sample_sz)), \n",
        "                            min_leaf=self.min_leaf)\n",
        "        \n",
        "    def predict(self, x):\n",
        "        return np.mean([t.predict(x) for t in self.trees], axis=0)\n",
        "\n",
        "    def score(self, x, y):\n",
        "        return np.sqrt((self.predict(x) - y)**2).mean()\n",
        "  \n",
        "    def feature_imp(self):\n",
        "        c = self.x.shape[1]\n",
        "        feature_importance = [] \n",
        "        \n",
        "        for j in range(c):\n",
        "            \n",
        "            newx = self.x.copy()\n",
        "            newx.iloc[:,j] = np.random.permutation(newx.iloc[:,j])\n",
        "            feature_importance.append(self.score(newx, self.y) \n",
        "                                    - self.score(self.x, self.y))\n",
        "        return np.array(feature_importance)\n",
        "  \n",
        "    def partial_dependence(self, var_name, n_rows):\n",
        "        row_idx = np.random.choice(self.x.shape[0] ,n_rows, replace=False)\n",
        "        var_idx = list(self.x.columns).index(var_name)\n",
        "        var_unique = np.sort(self.x.iloc[row_idx,var_idx].unique())      \n",
        "        prediction = pd.DataFrame()\n",
        "      \n",
        "        for j in range(len(var_unique)):\n",
        "        \n",
        "            newx= self.x.copy().iloc[row_idx,:]\n",
        "            newx.iloc[:,var_idx] = var_unique[j]\n",
        "            prediction[str(var_unique[j])] = self.predict(newx)\n",
        "        return prediction\n",
        "          \n",
        "    def confidence_std(self, x):\n",
        "        return np.std([t.predict(x) for t in self.trees], axis=0)\n",
        "\n",
        "                              \n",
        "def std_agg(cnt, s1, s2): return math.sqrt((s2/cnt) - (s1/cnt)**2)\n",
        "\n",
        "# the chunk of code below was written by Jeremy Howard (https://github.com/jph00) as part of a ML course  \n",
        "\n",
        "class DecisionTree():\n",
        "    \n",
        "    def __init__(self, x, y, idxs, min_leaf=5):\n",
        "        self.x, self.y, self.idxs, self.min_leaf = x, y, idxs, min_leaf\n",
        "        self.n, self.c = len(idxs), x.shape[1]\n",
        "        self.val = np.mean(y[idxs])\n",
        "        self.score = float('inf')\n",
        "        self.find_varsplit()\n",
        "    \n",
        "    def find_varsplit(self):\n",
        "        for i in range(self.c): self.find_better_split(i)\n",
        "        \n",
        "        if self.score == float('inf'): return\n",
        "        \n",
        "        x = self.split_col\n",
        "        lhs = np.nonzero(x<=self.split)[0]\n",
        "        rhs = np.nonzero(x>self.split)[0]\n",
        "        self.lhs = DecisionTree(self.x, self.y, self.idxs[lhs])\n",
        "        self.rhs = DecisionTree(self.x, self.y, self.idxs[rhs])\n",
        "      \n",
        "    def find_better_split(self, var_idx):\n",
        "        x,y = self.x.values[self.idxs,var_idx], self.y[self.idxs]\n",
        "        sort_idx = np.argsort(x)\n",
        "        sort_y,sort_x = y[sort_idx], x[sort_idx]\n",
        "        rhs_cnt,rhs_sum,rhs_sum2 = self.n,sort_y.sum(),(sort_y**2).sum()\n",
        "        lhs_cnt,lhs_sum,lhs_sum2 = 0,0.,0.\n",
        "        \n",
        "        for i in range(0,self.n-self.min_leaf-1):\n",
        "            \n",
        "            xi,yi = sort_x[i],sort_y[i]\n",
        "            lhs_cnt += 1; rhs_cnt -= 1\n",
        "            lhs_sum += yi; rhs_sum -= yi\n",
        "            lhs_sum2 += yi**2; rhs_sum2 -= yi**2\n",
        "            \n",
        "            if i<self.min_leaf or xi==sort_x[i+1]: continue\n",
        "                \n",
        "            lhs_std = std_agg(lhs_cnt, lhs_sum, lhs_sum2)\n",
        "            rhs_std = std_agg(rhs_cnt, rhs_sum, rhs_sum2)\n",
        "            curr_score = lhs_std*lhs_cnt + rhs_std*rhs_cnt\n",
        "            \n",
        "            if curr_score<self.score: \n",
        "                self.var_idx,self.score,self.split = var_idx,curr_score,xi\n",
        "  \n",
        "    @property\n",
        "    def split_name(self): return self.x.columns[self.var_idx]\n",
        "    \n",
        "    @property\n",
        "    def split_col(self): return self.x.values[self.idxs,self.var_idx]\n",
        "    \n",
        "    @property\n",
        "    def is_leaf(self): return self.score == float('inf')\n",
        "    \n",
        "    def __repr__(self):\n",
        "        s = f'n: {self.n}; val:{self.val}'\n",
        "\n",
        "        if not self.is_leaf:\n",
        "            s += f'; score:{self.score}; split:{self.split}; var:{self.split_name}'\n",
        "        return s\n",
        "\n",
        "    def predict(self, x):\n",
        "        return np.array([self.predict_row(xi) for xi in x.values])\n",
        "\n",
        "    def predict_row(self, xi):\n",
        "        \n",
        "        if self.is_leaf: return self.val\n",
        "\n",
        "        t = self.lhs if xi[self.var_idx]<=self.split else self.rhs\n",
        "        return t.predict_row(xi)"
      ],
      "execution_count": null,
      "outputs": []
    },
    {
      "cell_type": "markdown",
      "metadata": {
        "id": "VxdHOkh2zl_E"
      },
      "source": [
        "## Pre-processing "
      ]
    },
    {
      "cell_type": "code",
      "metadata": {
        "id": "8K0zZKQOzl_F"
      },
      "source": [
        "house = pd.read_csv(\"C:/Users/Yon/Downloads/train.csv\")"
      ],
      "execution_count": null,
      "outputs": []
    },
    {
      "cell_type": "code",
      "metadata": {
        "id": "cUhJsBXDzl_H",
        "outputId": "5405a127-f5f9-49fe-88a6-473898ab212b"
      },
      "source": [
        "house.shape"
      ],
      "execution_count": null,
      "outputs": [
        {
          "output_type": "execute_result",
          "data": {
            "text/plain": [
              "(1460, 81)"
            ]
          },
          "metadata": {
            "tags": []
          },
          "execution_count": 3
        }
      ]
    },
    {
      "cell_type": "code",
      "metadata": {
        "scrolled": true,
        "id": "pldRpvuRzl_K",
        "outputId": "f23960d0-9e92-42fe-92df-367e7a96f7bc"
      },
      "source": [
        "house.head(10)"
      ],
      "execution_count": null,
      "outputs": [
        {
          "output_type": "execute_result",
          "data": {
            "text/html": [
              "<div>\n",
              "<style scoped>\n",
              "    .dataframe tbody tr th:only-of-type {\n",
              "        vertical-align: middle;\n",
              "    }\n",
              "\n",
              "    .dataframe tbody tr th {\n",
              "        vertical-align: top;\n",
              "    }\n",
              "\n",
              "    .dataframe thead th {\n",
              "        text-align: right;\n",
              "    }\n",
              "</style>\n",
              "<table border=\"1\" class=\"dataframe\">\n",
              "  <thead>\n",
              "    <tr style=\"text-align: right;\">\n",
              "      <th></th>\n",
              "      <th>Id</th>\n",
              "      <th>MSSubClass</th>\n",
              "      <th>MSZoning</th>\n",
              "      <th>LotFrontage</th>\n",
              "      <th>LotArea</th>\n",
              "      <th>Street</th>\n",
              "      <th>Alley</th>\n",
              "      <th>LotShape</th>\n",
              "      <th>LandContour</th>\n",
              "      <th>Utilities</th>\n",
              "      <th>...</th>\n",
              "      <th>PoolArea</th>\n",
              "      <th>PoolQC</th>\n",
              "      <th>Fence</th>\n",
              "      <th>MiscFeature</th>\n",
              "      <th>MiscVal</th>\n",
              "      <th>MoSold</th>\n",
              "      <th>YrSold</th>\n",
              "      <th>SaleType</th>\n",
              "      <th>SaleCondition</th>\n",
              "      <th>SalePrice</th>\n",
              "    </tr>\n",
              "  </thead>\n",
              "  <tbody>\n",
              "    <tr>\n",
              "      <th>0</th>\n",
              "      <td>1</td>\n",
              "      <td>60</td>\n",
              "      <td>RL</td>\n",
              "      <td>65.0</td>\n",
              "      <td>8450</td>\n",
              "      <td>Pave</td>\n",
              "      <td>NaN</td>\n",
              "      <td>Reg</td>\n",
              "      <td>Lvl</td>\n",
              "      <td>AllPub</td>\n",
              "      <td>...</td>\n",
              "      <td>0</td>\n",
              "      <td>NaN</td>\n",
              "      <td>NaN</td>\n",
              "      <td>NaN</td>\n",
              "      <td>0</td>\n",
              "      <td>2</td>\n",
              "      <td>2008</td>\n",
              "      <td>WD</td>\n",
              "      <td>Normal</td>\n",
              "      <td>208500</td>\n",
              "    </tr>\n",
              "    <tr>\n",
              "      <th>1</th>\n",
              "      <td>2</td>\n",
              "      <td>20</td>\n",
              "      <td>RL</td>\n",
              "      <td>80.0</td>\n",
              "      <td>9600</td>\n",
              "      <td>Pave</td>\n",
              "      <td>NaN</td>\n",
              "      <td>Reg</td>\n",
              "      <td>Lvl</td>\n",
              "      <td>AllPub</td>\n",
              "      <td>...</td>\n",
              "      <td>0</td>\n",
              "      <td>NaN</td>\n",
              "      <td>NaN</td>\n",
              "      <td>NaN</td>\n",
              "      <td>0</td>\n",
              "      <td>5</td>\n",
              "      <td>2007</td>\n",
              "      <td>WD</td>\n",
              "      <td>Normal</td>\n",
              "      <td>181500</td>\n",
              "    </tr>\n",
              "    <tr>\n",
              "      <th>2</th>\n",
              "      <td>3</td>\n",
              "      <td>60</td>\n",
              "      <td>RL</td>\n",
              "      <td>68.0</td>\n",
              "      <td>11250</td>\n",
              "      <td>Pave</td>\n",
              "      <td>NaN</td>\n",
              "      <td>IR1</td>\n",
              "      <td>Lvl</td>\n",
              "      <td>AllPub</td>\n",
              "      <td>...</td>\n",
              "      <td>0</td>\n",
              "      <td>NaN</td>\n",
              "      <td>NaN</td>\n",
              "      <td>NaN</td>\n",
              "      <td>0</td>\n",
              "      <td>9</td>\n",
              "      <td>2008</td>\n",
              "      <td>WD</td>\n",
              "      <td>Normal</td>\n",
              "      <td>223500</td>\n",
              "    </tr>\n",
              "    <tr>\n",
              "      <th>3</th>\n",
              "      <td>4</td>\n",
              "      <td>70</td>\n",
              "      <td>RL</td>\n",
              "      <td>60.0</td>\n",
              "      <td>9550</td>\n",
              "      <td>Pave</td>\n",
              "      <td>NaN</td>\n",
              "      <td>IR1</td>\n",
              "      <td>Lvl</td>\n",
              "      <td>AllPub</td>\n",
              "      <td>...</td>\n",
              "      <td>0</td>\n",
              "      <td>NaN</td>\n",
              "      <td>NaN</td>\n",
              "      <td>NaN</td>\n",
              "      <td>0</td>\n",
              "      <td>2</td>\n",
              "      <td>2006</td>\n",
              "      <td>WD</td>\n",
              "      <td>Abnorml</td>\n",
              "      <td>140000</td>\n",
              "    </tr>\n",
              "    <tr>\n",
              "      <th>4</th>\n",
              "      <td>5</td>\n",
              "      <td>60</td>\n",
              "      <td>RL</td>\n",
              "      <td>84.0</td>\n",
              "      <td>14260</td>\n",
              "      <td>Pave</td>\n",
              "      <td>NaN</td>\n",
              "      <td>IR1</td>\n",
              "      <td>Lvl</td>\n",
              "      <td>AllPub</td>\n",
              "      <td>...</td>\n",
              "      <td>0</td>\n",
              "      <td>NaN</td>\n",
              "      <td>NaN</td>\n",
              "      <td>NaN</td>\n",
              "      <td>0</td>\n",
              "      <td>12</td>\n",
              "      <td>2008</td>\n",
              "      <td>WD</td>\n",
              "      <td>Normal</td>\n",
              "      <td>250000</td>\n",
              "    </tr>\n",
              "    <tr>\n",
              "      <th>5</th>\n",
              "      <td>6</td>\n",
              "      <td>50</td>\n",
              "      <td>RL</td>\n",
              "      <td>85.0</td>\n",
              "      <td>14115</td>\n",
              "      <td>Pave</td>\n",
              "      <td>NaN</td>\n",
              "      <td>IR1</td>\n",
              "      <td>Lvl</td>\n",
              "      <td>AllPub</td>\n",
              "      <td>...</td>\n",
              "      <td>0</td>\n",
              "      <td>NaN</td>\n",
              "      <td>MnPrv</td>\n",
              "      <td>Shed</td>\n",
              "      <td>700</td>\n",
              "      <td>10</td>\n",
              "      <td>2009</td>\n",
              "      <td>WD</td>\n",
              "      <td>Normal</td>\n",
              "      <td>143000</td>\n",
              "    </tr>\n",
              "    <tr>\n",
              "      <th>6</th>\n",
              "      <td>7</td>\n",
              "      <td>20</td>\n",
              "      <td>RL</td>\n",
              "      <td>75.0</td>\n",
              "      <td>10084</td>\n",
              "      <td>Pave</td>\n",
              "      <td>NaN</td>\n",
              "      <td>Reg</td>\n",
              "      <td>Lvl</td>\n",
              "      <td>AllPub</td>\n",
              "      <td>...</td>\n",
              "      <td>0</td>\n",
              "      <td>NaN</td>\n",
              "      <td>NaN</td>\n",
              "      <td>NaN</td>\n",
              "      <td>0</td>\n",
              "      <td>8</td>\n",
              "      <td>2007</td>\n",
              "      <td>WD</td>\n",
              "      <td>Normal</td>\n",
              "      <td>307000</td>\n",
              "    </tr>\n",
              "    <tr>\n",
              "      <th>7</th>\n",
              "      <td>8</td>\n",
              "      <td>60</td>\n",
              "      <td>RL</td>\n",
              "      <td>NaN</td>\n",
              "      <td>10382</td>\n",
              "      <td>Pave</td>\n",
              "      <td>NaN</td>\n",
              "      <td>IR1</td>\n",
              "      <td>Lvl</td>\n",
              "      <td>AllPub</td>\n",
              "      <td>...</td>\n",
              "      <td>0</td>\n",
              "      <td>NaN</td>\n",
              "      <td>NaN</td>\n",
              "      <td>Shed</td>\n",
              "      <td>350</td>\n",
              "      <td>11</td>\n",
              "      <td>2009</td>\n",
              "      <td>WD</td>\n",
              "      <td>Normal</td>\n",
              "      <td>200000</td>\n",
              "    </tr>\n",
              "    <tr>\n",
              "      <th>8</th>\n",
              "      <td>9</td>\n",
              "      <td>50</td>\n",
              "      <td>RM</td>\n",
              "      <td>51.0</td>\n",
              "      <td>6120</td>\n",
              "      <td>Pave</td>\n",
              "      <td>NaN</td>\n",
              "      <td>Reg</td>\n",
              "      <td>Lvl</td>\n",
              "      <td>AllPub</td>\n",
              "      <td>...</td>\n",
              "      <td>0</td>\n",
              "      <td>NaN</td>\n",
              "      <td>NaN</td>\n",
              "      <td>NaN</td>\n",
              "      <td>0</td>\n",
              "      <td>4</td>\n",
              "      <td>2008</td>\n",
              "      <td>WD</td>\n",
              "      <td>Abnorml</td>\n",
              "      <td>129900</td>\n",
              "    </tr>\n",
              "    <tr>\n",
              "      <th>9</th>\n",
              "      <td>10</td>\n",
              "      <td>190</td>\n",
              "      <td>RL</td>\n",
              "      <td>50.0</td>\n",
              "      <td>7420</td>\n",
              "      <td>Pave</td>\n",
              "      <td>NaN</td>\n",
              "      <td>Reg</td>\n",
              "      <td>Lvl</td>\n",
              "      <td>AllPub</td>\n",
              "      <td>...</td>\n",
              "      <td>0</td>\n",
              "      <td>NaN</td>\n",
              "      <td>NaN</td>\n",
              "      <td>NaN</td>\n",
              "      <td>0</td>\n",
              "      <td>1</td>\n",
              "      <td>2008</td>\n",
              "      <td>WD</td>\n",
              "      <td>Normal</td>\n",
              "      <td>118000</td>\n",
              "    </tr>\n",
              "  </tbody>\n",
              "</table>\n",
              "<p>10 rows × 81 columns</p>\n",
              "</div>"
            ],
            "text/plain": [
              "   Id  MSSubClass MSZoning  LotFrontage  LotArea Street Alley LotShape  \\\n",
              "0   1          60       RL         65.0     8450   Pave   NaN      Reg   \n",
              "1   2          20       RL         80.0     9600   Pave   NaN      Reg   \n",
              "2   3          60       RL         68.0    11250   Pave   NaN      IR1   \n",
              "3   4          70       RL         60.0     9550   Pave   NaN      IR1   \n",
              "4   5          60       RL         84.0    14260   Pave   NaN      IR1   \n",
              "5   6          50       RL         85.0    14115   Pave   NaN      IR1   \n",
              "6   7          20       RL         75.0    10084   Pave   NaN      Reg   \n",
              "7   8          60       RL          NaN    10382   Pave   NaN      IR1   \n",
              "8   9          50       RM         51.0     6120   Pave   NaN      Reg   \n",
              "9  10         190       RL         50.0     7420   Pave   NaN      Reg   \n",
              "\n",
              "  LandContour Utilities  ... PoolArea PoolQC  Fence MiscFeature MiscVal  \\\n",
              "0         Lvl    AllPub  ...        0    NaN    NaN         NaN       0   \n",
              "1         Lvl    AllPub  ...        0    NaN    NaN         NaN       0   \n",
              "2         Lvl    AllPub  ...        0    NaN    NaN         NaN       0   \n",
              "3         Lvl    AllPub  ...        0    NaN    NaN         NaN       0   \n",
              "4         Lvl    AllPub  ...        0    NaN    NaN         NaN       0   \n",
              "5         Lvl    AllPub  ...        0    NaN  MnPrv        Shed     700   \n",
              "6         Lvl    AllPub  ...        0    NaN    NaN         NaN       0   \n",
              "7         Lvl    AllPub  ...        0    NaN    NaN        Shed     350   \n",
              "8         Lvl    AllPub  ...        0    NaN    NaN         NaN       0   \n",
              "9         Lvl    AllPub  ...        0    NaN    NaN         NaN       0   \n",
              "\n",
              "  MoSold YrSold  SaleType  SaleCondition  SalePrice  \n",
              "0      2   2008        WD         Normal     208500  \n",
              "1      5   2007        WD         Normal     181500  \n",
              "2      9   2008        WD         Normal     223500  \n",
              "3      2   2006        WD        Abnorml     140000  \n",
              "4     12   2008        WD         Normal     250000  \n",
              "5     10   2009        WD         Normal     143000  \n",
              "6      8   2007        WD         Normal     307000  \n",
              "7     11   2009        WD         Normal     200000  \n",
              "8      4   2008        WD        Abnorml     129900  \n",
              "9      1   2008        WD         Normal     118000  \n",
              "\n",
              "[10 rows x 81 columns]"
            ]
          },
          "metadata": {
            "tags": []
          },
          "execution_count": 4
        }
      ]
    },
    {
      "cell_type": "markdown",
      "metadata": {
        "id": "PDTTHg0tzl_M"
      },
      "source": [
        "The goal is to predict house prices \"SalePrice\" with all the data we have at hand. There are about 80 features each of them giving a specific information about houses, e.g \"Kitchen\" gives number of kitchens and \"KitchenQual\" its quality."
      ]
    },
    {
      "cell_type": "code",
      "metadata": {
        "id": "2N8I51dZzl_M"
      },
      "source": [
        "y = \"SalePrice\""
      ],
      "execution_count": null,
      "outputs": []
    },
    {
      "cell_type": "code",
      "metadata": {
        "id": "PQ38KeUpzl_Q",
        "outputId": "900d82df-3c98-4774-d756-0f1dbc45e1a1"
      },
      "source": [
        "house.isna().sum()[house.isna().sum()>0]"
      ],
      "execution_count": null,
      "outputs": [
        {
          "output_type": "execute_result",
          "data": {
            "text/plain": [
              "LotFrontage      259\n",
              "Alley           1369\n",
              "MasVnrType         8\n",
              "MasVnrArea         8\n",
              "BsmtQual          37\n",
              "BsmtCond          37\n",
              "BsmtExposure      38\n",
              "BsmtFinType1      37\n",
              "BsmtFinType2      38\n",
              "Electrical         1\n",
              "FireplaceQu      690\n",
              "GarageType        81\n",
              "GarageYrBlt       81\n",
              "GarageFinish      81\n",
              "GarageQual        81\n",
              "GarageCond        81\n",
              "PoolQC          1453\n",
              "Fence           1179\n",
              "MiscFeature     1406\n",
              "dtype: int64"
            ]
          },
          "metadata": {
            "tags": []
          },
          "execution_count": 6
        }
      ]
    },
    {
      "cell_type": "markdown",
      "metadata": {
        "id": "Ni_BY2_Wzl_S"
      },
      "source": [
        "We see that there is a lot of missing values so we need to deal with them but firstly we have to define the categorical and continous variables."
      ]
    },
    {
      "cell_type": "markdown",
      "metadata": {
        "id": "gVZRdoH2zl_S"
      },
      "source": [
        "We consider columns which have object dtype to be categorical."
      ]
    },
    {
      "cell_type": "code",
      "metadata": {
        "id": "6aNYYbeyzl_T"
      },
      "source": [
        "cat_vars = list(house.select_dtypes(include=\"object\").columns)"
      ],
      "execution_count": null,
      "outputs": []
    },
    {
      "cell_type": "markdown",
      "metadata": {
        "id": "CzaKVexGzl_V"
      },
      "source": [
        "In the remaining columns, we need to identify the ones that are categorical. Those columns which have less than 15 unique values will be considered as categorical."
      ]
    },
    {
      "cell_type": "code",
      "metadata": {
        "id": "dQdjlbArzl_V"
      },
      "source": [
        "cat_vars.extend(list((house.select_dtypes(exclude = \"object\").\n",
        "                      nunique()[house.select_dtypes(exclude = \"object\").nunique()<=15]).index))"
      ],
      "execution_count": null,
      "outputs": []
    },
    {
      "cell_type": "markdown",
      "metadata": {
        "id": "X6z0dhedzl_X"
      },
      "source": [
        "The remaining variables below will be considered continuous."
      ]
    },
    {
      "cell_type": "code",
      "metadata": {
        "id": "DuwSAqGrzl_X",
        "outputId": "280404f2-f8d9-4a45-8c97-4e539e00cd3c"
      },
      "source": [
        "house.select_dtypes(exclude = \"object\").nunique()[house.select_dtypes(exclude = \"object\").nunique()>15]"
      ],
      "execution_count": null,
      "outputs": [
        {
          "output_type": "execute_result",
          "data": {
            "text/plain": [
              "Id               1460\n",
              "LotFrontage       110\n",
              "LotArea          1073\n",
              "YearBuilt         112\n",
              "YearRemodAdd       61\n",
              "MasVnrArea        327\n",
              "BsmtFinSF1        637\n",
              "BsmtFinSF2        144\n",
              "BsmtUnfSF         780\n",
              "TotalBsmtSF       721\n",
              "1stFlrSF          753\n",
              "2ndFlrSF          417\n",
              "LowQualFinSF       24\n",
              "GrLivArea         861\n",
              "GarageYrBlt        97\n",
              "GarageArea        441\n",
              "WoodDeckSF        274\n",
              "OpenPorchSF       202\n",
              "EnclosedPorch     120\n",
              "3SsnPorch          20\n",
              "ScreenPorch        76\n",
              "MiscVal            21\n",
              "SalePrice         663\n",
              "dtype: int64"
            ]
          },
          "metadata": {
            "tags": []
          },
          "execution_count": 9
        }
      ]
    },
    {
      "cell_type": "code",
      "metadata": {
        "id": "3nuqRAbpzl_Z"
      },
      "source": [
        "cont_vars = list((house.select_dtypes(exclude = \"object\").\n",
        "                  nunique()[house.select_dtypes(exclude = \"object\").nunique()>15]).index)"
      ],
      "execution_count": null,
      "outputs": []
    },
    {
      "cell_type": "code",
      "metadata": {
        "id": "1h3d1GTwzl_b"
      },
      "source": [
        "cont_vars.remove(\"SalePrice\")"
      ],
      "execution_count": null,
      "outputs": []
    },
    {
      "cell_type": "markdown",
      "metadata": {
        "id": "qTEqgr-7zl_d"
      },
      "source": [
        "### sklearn Pipeline"
      ]
    },
    {
      "cell_type": "markdown",
      "metadata": {
        "id": "5oHtfpgKzl_d"
      },
      "source": [
        "Now we are ready to do some data pre-processing."
      ]
    },
    {
      "cell_type": "code",
      "metadata": {
        "id": "TaUb7mmLzl_d"
      },
      "source": [
        "from sklearn.preprocessing import OneHotEncoder\n",
        "from sklearn.impute import SimpleImputer\n",
        "from sklearn.pipeline import Pipeline\n",
        "from sklearn.compose import ColumnTransformer\n",
        "    "
      ],
      "execution_count": null,
      "outputs": []
    },
    {
      "cell_type": "markdown",
      "metadata": {
        "id": "S8JRljwHzl_g"
      },
      "source": [
        "We impute continuous variable by their median and we create a dummy each time that indicates missingness. For categorical variables we create a NA category then we one-hot encode them. e.g \"MoSold\" informs about which month houses were sold, one-hot encoding it will create a variable \"MoSold_1\" filled with 1s and 0s, if its 1 it means the house was sold in January. Then it will create \"MoSold_2\" and so on. "
      ]
    },
    {
      "cell_type": "code",
      "metadata": {
        "id": "KzL9e44Szl_g"
      },
      "source": [
        "ContinuousPipe = Pipeline([('imputer', SimpleImputer(missing_values=np.nan, strategy=\"median\", add_indicator=True))])\n",
        "CategoricalPipe = Pipeline([('na_imputer', SimpleImputer(missing_values=np.nan, strategy=\"constant\", fill_value=\"na\")),\n",
        "                            ('encoder', OneHotEncoder())\n",
        "                            ])\n",
        "FullPipe = ColumnTransformer([(\"continuous\", ContinuousPipe, cont_vars),\n",
        "                              (\"categorical\", CategoricalPipe, cat_vars)\n",
        "                             ])"
      ],
      "execution_count": null,
      "outputs": []
    },
    {
      "cell_type": "code",
      "metadata": {
        "id": "107ml5Aozl_i",
        "outputId": "ae8c8e75-9e08-423c-9aea-20902547f6a4"
      },
      "source": [
        "FullPipe.fit(house)"
      ],
      "execution_count": null,
      "outputs": [
        {
          "output_type": "execute_result",
          "data": {
            "text/plain": [
              "ColumnTransformer(transformers=[('continuous',\n",
              "                                 Pipeline(steps=[('imputer',\n",
              "                                                  SimpleImputer(add_indicator=True,\n",
              "                                                                strategy='median'))]),\n",
              "                                 ['Id', 'LotFrontage', 'LotArea', 'YearBuilt',\n",
              "                                  'YearRemodAdd', 'MasVnrArea', 'BsmtFinSF1',\n",
              "                                  'BsmtFinSF2', 'BsmtUnfSF', 'TotalBsmtSF',\n",
              "                                  '1stFlrSF', '2ndFlrSF', 'LowQualFinSF',\n",
              "                                  'GrLivArea', 'GarageYrBlt', 'GarageArea',\n",
              "                                  'WoodDeckSF', 'OpenPorchS...\n",
              "                                 ['MSZoning', 'Street', 'Alley', 'LotShape',\n",
              "                                  'LandContour', 'Utilities', 'LotConfig',\n",
              "                                  'LandSlope', 'Neighborhood', 'Condition1',\n",
              "                                  'Condition2', 'BldgType', 'HouseStyle',\n",
              "                                  'RoofStyle', 'RoofMatl', 'Exterior1st',\n",
              "                                  'Exterior2nd', 'MasVnrType', 'ExterQual',\n",
              "                                  'ExterCond', 'Foundation', 'BsmtQual',\n",
              "                                  'BsmtCond', 'BsmtExposure', 'BsmtFinType1',\n",
              "                                  'BsmtFinType2', 'Heating', 'HeatingQC',\n",
              "                                  'CentralAir', 'Electrical', ...])])"
            ]
          },
          "metadata": {
            "tags": []
          },
          "execution_count": 14
        }
      ]
    },
    {
      "cell_type": "code",
      "metadata": {
        "id": "OG0eYC8hzl_k"
      },
      "source": [
        "X = FullPipe.transform(house)"
      ],
      "execution_count": null,
      "outputs": []
    },
    {
      "cell_type": "code",
      "metadata": {
        "id": "Sjb5F3Mqzl_m",
        "outputId": "32c68525-160c-452a-ad85-5b9cd639e470"
      },
      "source": [
        "pd.DataFrame.sparse.from_spmatrix(X)"
      ],
      "execution_count": null,
      "outputs": [
        {
          "output_type": "execute_result",
          "data": {
            "text/html": [
              "<div>\n",
              "<style scoped>\n",
              "    .dataframe tbody tr th:only-of-type {\n",
              "        vertical-align: middle;\n",
              "    }\n",
              "\n",
              "    .dataframe tbody tr th {\n",
              "        vertical-align: top;\n",
              "    }\n",
              "\n",
              "    .dataframe thead th {\n",
              "        text-align: right;\n",
              "    }\n",
              "</style>\n",
              "<table border=\"1\" class=\"dataframe\">\n",
              "  <thead>\n",
              "    <tr style=\"text-align: right;\">\n",
              "      <th></th>\n",
              "      <th>0</th>\n",
              "      <th>1</th>\n",
              "      <th>2</th>\n",
              "      <th>3</th>\n",
              "      <th>4</th>\n",
              "      <th>5</th>\n",
              "      <th>6</th>\n",
              "      <th>7</th>\n",
              "      <th>8</th>\n",
              "      <th>9</th>\n",
              "      <th>...</th>\n",
              "      <th>389</th>\n",
              "      <th>390</th>\n",
              "      <th>391</th>\n",
              "      <th>392</th>\n",
              "      <th>393</th>\n",
              "      <th>394</th>\n",
              "      <th>395</th>\n",
              "      <th>396</th>\n",
              "      <th>397</th>\n",
              "      <th>398</th>\n",
              "    </tr>\n",
              "  </thead>\n",
              "  <tbody>\n",
              "    <tr>\n",
              "      <th>0</th>\n",
              "      <td>1.0</td>\n",
              "      <td>65.0</td>\n",
              "      <td>8450.0</td>\n",
              "      <td>2003.0</td>\n",
              "      <td>2003.0</td>\n",
              "      <td>196.0</td>\n",
              "      <td>706.0</td>\n",
              "      <td>0.0</td>\n",
              "      <td>150.0</td>\n",
              "      <td>856.0</td>\n",
              "      <td>...</td>\n",
              "      <td>0.0</td>\n",
              "      <td>0.0</td>\n",
              "      <td>0.0</td>\n",
              "      <td>0.0</td>\n",
              "      <td>0.0</td>\n",
              "      <td>0.0</td>\n",
              "      <td>0.0</td>\n",
              "      <td>1.0</td>\n",
              "      <td>0.0</td>\n",
              "      <td>0.0</td>\n",
              "    </tr>\n",
              "    <tr>\n",
              "      <th>1</th>\n",
              "      <td>2.0</td>\n",
              "      <td>80.0</td>\n",
              "      <td>9600.0</td>\n",
              "      <td>1976.0</td>\n",
              "      <td>1976.0</td>\n",
              "      <td>0.0</td>\n",
              "      <td>978.0</td>\n",
              "      <td>0.0</td>\n",
              "      <td>284.0</td>\n",
              "      <td>1262.0</td>\n",
              "      <td>...</td>\n",
              "      <td>0.0</td>\n",
              "      <td>0.0</td>\n",
              "      <td>0.0</td>\n",
              "      <td>0.0</td>\n",
              "      <td>0.0</td>\n",
              "      <td>0.0</td>\n",
              "      <td>1.0</td>\n",
              "      <td>0.0</td>\n",
              "      <td>0.0</td>\n",
              "      <td>0.0</td>\n",
              "    </tr>\n",
              "    <tr>\n",
              "      <th>2</th>\n",
              "      <td>3.0</td>\n",
              "      <td>68.0</td>\n",
              "      <td>11250.0</td>\n",
              "      <td>2001.0</td>\n",
              "      <td>2002.0</td>\n",
              "      <td>162.0</td>\n",
              "      <td>486.0</td>\n",
              "      <td>0.0</td>\n",
              "      <td>434.0</td>\n",
              "      <td>920.0</td>\n",
              "      <td>...</td>\n",
              "      <td>0.0</td>\n",
              "      <td>1.0</td>\n",
              "      <td>0.0</td>\n",
              "      <td>0.0</td>\n",
              "      <td>0.0</td>\n",
              "      <td>0.0</td>\n",
              "      <td>0.0</td>\n",
              "      <td>1.0</td>\n",
              "      <td>0.0</td>\n",
              "      <td>0.0</td>\n",
              "    </tr>\n",
              "    <tr>\n",
              "      <th>3</th>\n",
              "      <td>4.0</td>\n",
              "      <td>60.0</td>\n",
              "      <td>9550.0</td>\n",
              "      <td>1915.0</td>\n",
              "      <td>1970.0</td>\n",
              "      <td>0.0</td>\n",
              "      <td>216.0</td>\n",
              "      <td>0.0</td>\n",
              "      <td>540.0</td>\n",
              "      <td>756.0</td>\n",
              "      <td>...</td>\n",
              "      <td>0.0</td>\n",
              "      <td>0.0</td>\n",
              "      <td>0.0</td>\n",
              "      <td>0.0</td>\n",
              "      <td>0.0</td>\n",
              "      <td>1.0</td>\n",
              "      <td>0.0</td>\n",
              "      <td>0.0</td>\n",
              "      <td>0.0</td>\n",
              "      <td>0.0</td>\n",
              "    </tr>\n",
              "    <tr>\n",
              "      <th>4</th>\n",
              "      <td>5.0</td>\n",
              "      <td>84.0</td>\n",
              "      <td>14260.0</td>\n",
              "      <td>2000.0</td>\n",
              "      <td>2000.0</td>\n",
              "      <td>350.0</td>\n",
              "      <td>655.0</td>\n",
              "      <td>0.0</td>\n",
              "      <td>490.0</td>\n",
              "      <td>1145.0</td>\n",
              "      <td>...</td>\n",
              "      <td>0.0</td>\n",
              "      <td>0.0</td>\n",
              "      <td>0.0</td>\n",
              "      <td>0.0</td>\n",
              "      <td>1.0</td>\n",
              "      <td>0.0</td>\n",
              "      <td>0.0</td>\n",
              "      <td>1.0</td>\n",
              "      <td>0.0</td>\n",
              "      <td>0.0</td>\n",
              "    </tr>\n",
              "    <tr>\n",
              "      <th>...</th>\n",
              "      <td>...</td>\n",
              "      <td>...</td>\n",
              "      <td>...</td>\n",
              "      <td>...</td>\n",
              "      <td>...</td>\n",
              "      <td>...</td>\n",
              "      <td>...</td>\n",
              "      <td>...</td>\n",
              "      <td>...</td>\n",
              "      <td>...</td>\n",
              "      <td>...</td>\n",
              "      <td>...</td>\n",
              "      <td>...</td>\n",
              "      <td>...</td>\n",
              "      <td>...</td>\n",
              "      <td>...</td>\n",
              "      <td>...</td>\n",
              "      <td>...</td>\n",
              "      <td>...</td>\n",
              "      <td>...</td>\n",
              "      <td>...</td>\n",
              "    </tr>\n",
              "    <tr>\n",
              "      <th>1455</th>\n",
              "      <td>1456.0</td>\n",
              "      <td>62.0</td>\n",
              "      <td>7917.0</td>\n",
              "      <td>1999.0</td>\n",
              "      <td>2000.0</td>\n",
              "      <td>0.0</td>\n",
              "      <td>0.0</td>\n",
              "      <td>0.0</td>\n",
              "      <td>953.0</td>\n",
              "      <td>953.0</td>\n",
              "      <td>...</td>\n",
              "      <td>1.0</td>\n",
              "      <td>0.0</td>\n",
              "      <td>0.0</td>\n",
              "      <td>0.0</td>\n",
              "      <td>0.0</td>\n",
              "      <td>0.0</td>\n",
              "      <td>1.0</td>\n",
              "      <td>0.0</td>\n",
              "      <td>0.0</td>\n",
              "      <td>0.0</td>\n",
              "    </tr>\n",
              "    <tr>\n",
              "      <th>1456</th>\n",
              "      <td>1457.0</td>\n",
              "      <td>85.0</td>\n",
              "      <td>13175.0</td>\n",
              "      <td>1978.0</td>\n",
              "      <td>1988.0</td>\n",
              "      <td>119.0</td>\n",
              "      <td>790.0</td>\n",
              "      <td>163.0</td>\n",
              "      <td>589.0</td>\n",
              "      <td>1542.0</td>\n",
              "      <td>...</td>\n",
              "      <td>0.0</td>\n",
              "      <td>0.0</td>\n",
              "      <td>0.0</td>\n",
              "      <td>0.0</td>\n",
              "      <td>0.0</td>\n",
              "      <td>0.0</td>\n",
              "      <td>0.0</td>\n",
              "      <td>0.0</td>\n",
              "      <td>0.0</td>\n",
              "      <td>1.0</td>\n",
              "    </tr>\n",
              "    <tr>\n",
              "      <th>1457</th>\n",
              "      <td>1458.0</td>\n",
              "      <td>66.0</td>\n",
              "      <td>9042.0</td>\n",
              "      <td>1941.0</td>\n",
              "      <td>2006.0</td>\n",
              "      <td>0.0</td>\n",
              "      <td>275.0</td>\n",
              "      <td>0.0</td>\n",
              "      <td>877.0</td>\n",
              "      <td>1152.0</td>\n",
              "      <td>...</td>\n",
              "      <td>0.0</td>\n",
              "      <td>0.0</td>\n",
              "      <td>0.0</td>\n",
              "      <td>0.0</td>\n",
              "      <td>0.0</td>\n",
              "      <td>0.0</td>\n",
              "      <td>0.0</td>\n",
              "      <td>0.0</td>\n",
              "      <td>0.0</td>\n",
              "      <td>1.0</td>\n",
              "    </tr>\n",
              "    <tr>\n",
              "      <th>1458</th>\n",
              "      <td>1459.0</td>\n",
              "      <td>68.0</td>\n",
              "      <td>9717.0</td>\n",
              "      <td>1950.0</td>\n",
              "      <td>1996.0</td>\n",
              "      <td>0.0</td>\n",
              "      <td>49.0</td>\n",
              "      <td>1029.0</td>\n",
              "      <td>0.0</td>\n",
              "      <td>1078.0</td>\n",
              "      <td>...</td>\n",
              "      <td>0.0</td>\n",
              "      <td>0.0</td>\n",
              "      <td>0.0</td>\n",
              "      <td>0.0</td>\n",
              "      <td>0.0</td>\n",
              "      <td>0.0</td>\n",
              "      <td>0.0</td>\n",
              "      <td>0.0</td>\n",
              "      <td>0.0</td>\n",
              "      <td>1.0</td>\n",
              "    </tr>\n",
              "    <tr>\n",
              "      <th>1459</th>\n",
              "      <td>1460.0</td>\n",
              "      <td>75.0</td>\n",
              "      <td>9937.0</td>\n",
              "      <td>1965.0</td>\n",
              "      <td>1965.0</td>\n",
              "      <td>0.0</td>\n",
              "      <td>830.0</td>\n",
              "      <td>290.0</td>\n",
              "      <td>136.0</td>\n",
              "      <td>1256.0</td>\n",
              "      <td>...</td>\n",
              "      <td>0.0</td>\n",
              "      <td>0.0</td>\n",
              "      <td>0.0</td>\n",
              "      <td>0.0</td>\n",
              "      <td>0.0</td>\n",
              "      <td>0.0</td>\n",
              "      <td>0.0</td>\n",
              "      <td>1.0</td>\n",
              "      <td>0.0</td>\n",
              "      <td>0.0</td>\n",
              "    </tr>\n",
              "  </tbody>\n",
              "</table>\n",
              "<p>1460 rows × 399 columns</p>\n",
              "</div>"
            ],
            "text/plain": [
              "         0     1        2       3       4      5      6       7      8    \\\n",
              "0        1.0  65.0   8450.0  2003.0  2003.0  196.0  706.0     0.0  150.0   \n",
              "1        2.0  80.0   9600.0  1976.0  1976.0    0.0  978.0     0.0  284.0   \n",
              "2        3.0  68.0  11250.0  2001.0  2002.0  162.0  486.0     0.0  434.0   \n",
              "3        4.0  60.0   9550.0  1915.0  1970.0    0.0  216.0     0.0  540.0   \n",
              "4        5.0  84.0  14260.0  2000.0  2000.0  350.0  655.0     0.0  490.0   \n",
              "...      ...   ...      ...     ...     ...    ...    ...     ...    ...   \n",
              "1455  1456.0  62.0   7917.0  1999.0  2000.0    0.0    0.0     0.0  953.0   \n",
              "1456  1457.0  85.0  13175.0  1978.0  1988.0  119.0  790.0   163.0  589.0   \n",
              "1457  1458.0  66.0   9042.0  1941.0  2006.0    0.0  275.0     0.0  877.0   \n",
              "1458  1459.0  68.0   9717.0  1950.0  1996.0    0.0   49.0  1029.0    0.0   \n",
              "1459  1460.0  75.0   9937.0  1965.0  1965.0    0.0  830.0   290.0  136.0   \n",
              "\n",
              "         9    ...  389  390  391  392  393  394  395  396  397  398  \n",
              "0      856.0  ...  0.0  0.0  0.0  0.0  0.0  0.0  0.0  1.0  0.0  0.0  \n",
              "1     1262.0  ...  0.0  0.0  0.0  0.0  0.0  0.0  1.0  0.0  0.0  0.0  \n",
              "2      920.0  ...  0.0  1.0  0.0  0.0  0.0  0.0  0.0  1.0  0.0  0.0  \n",
              "3      756.0  ...  0.0  0.0  0.0  0.0  0.0  1.0  0.0  0.0  0.0  0.0  \n",
              "4     1145.0  ...  0.0  0.0  0.0  0.0  1.0  0.0  0.0  1.0  0.0  0.0  \n",
              "...      ...  ...  ...  ...  ...  ...  ...  ...  ...  ...  ...  ...  \n",
              "1455   953.0  ...  1.0  0.0  0.0  0.0  0.0  0.0  1.0  0.0  0.0  0.0  \n",
              "1456  1542.0  ...  0.0  0.0  0.0  0.0  0.0  0.0  0.0  0.0  0.0  1.0  \n",
              "1457  1152.0  ...  0.0  0.0  0.0  0.0  0.0  0.0  0.0  0.0  0.0  1.0  \n",
              "1458  1078.0  ...  0.0  0.0  0.0  0.0  0.0  0.0  0.0  0.0  0.0  1.0  \n",
              "1459  1256.0  ...  0.0  0.0  0.0  0.0  0.0  0.0  0.0  1.0  0.0  0.0  \n",
              "\n",
              "[1460 rows x 399 columns]"
            ]
          },
          "metadata": {
            "tags": []
          },
          "execution_count": 16
        }
      ]
    },
    {
      "cell_type": "code",
      "metadata": {
        "id": "CGv4InGSzl_o",
        "outputId": "27bf8822-062e-4d8b-aa51-3ca8d4df554a"
      },
      "source": [
        "FullPipe.get_feature_names()"
      ],
      "execution_count": null,
      "outputs": [
        {
          "output_type": "error",
          "ename": "AttributeError",
          "evalue": "Transformer continuous (type Pipeline) does not provide get_feature_names.",
          "traceback": [
            "\u001b[1;31m---------------------------------------------------------------------------\u001b[0m",
            "\u001b[1;31mAttributeError\u001b[0m                            Traceback (most recent call last)",
            "\u001b[1;32m<ipython-input-17-a11a04dc2d8c>\u001b[0m in \u001b[0;36m<module>\u001b[1;34m\u001b[0m\n\u001b[1;32m----> 1\u001b[1;33m \u001b[0mFullPipe\u001b[0m\u001b[1;33m.\u001b[0m\u001b[0mget_feature_names\u001b[0m\u001b[1;33m(\u001b[0m\u001b[1;33m)\u001b[0m\u001b[1;33m\u001b[0m\u001b[1;33m\u001b[0m\u001b[0m\n\u001b[0m",
            "\u001b[1;32m~\\anaconda3\\lib\\site-packages\\sklearn\\compose\\_column_transformer.py\u001b[0m in \u001b[0;36mget_feature_names\u001b[1;34m(self)\u001b[0m\n\u001b[0;32m    369\u001b[0m                 \u001b[1;32mcontinue\u001b[0m\u001b[1;33m\u001b[0m\u001b[1;33m\u001b[0m\u001b[0m\n\u001b[0;32m    370\u001b[0m             \u001b[1;32mif\u001b[0m \u001b[1;32mnot\u001b[0m \u001b[0mhasattr\u001b[0m\u001b[1;33m(\u001b[0m\u001b[0mtrans\u001b[0m\u001b[1;33m,\u001b[0m \u001b[1;34m'get_feature_names'\u001b[0m\u001b[1;33m)\u001b[0m\u001b[1;33m:\u001b[0m\u001b[1;33m\u001b[0m\u001b[1;33m\u001b[0m\u001b[0m\n\u001b[1;32m--> 371\u001b[1;33m                 raise AttributeError(\"Transformer %s (type %s) does not \"\n\u001b[0m\u001b[0;32m    372\u001b[0m                                      \u001b[1;34m\"provide get_feature_names.\"\u001b[0m\u001b[1;33m\u001b[0m\u001b[1;33m\u001b[0m\u001b[0m\n\u001b[0;32m    373\u001b[0m                                      % (str(name), type(trans).__name__))\n",
            "\u001b[1;31mAttributeError\u001b[0m: Transformer continuous (type Pipeline) does not provide get_feature_names."
          ]
        }
      ]
    },
    {
      "cell_type": "markdown",
      "metadata": {
        "id": "18-HupUazl_q"
      },
      "source": [
        "Our Pipeline created new variables during pre-processing. The data is ready to be fed into our algorithm though it would be better if we could get the feature names. We get an error when trying to retrieve them. That's one of the reasons why I've decided to create my own class which automates this pre-processing pipeline and keeps track of feature names. It only supports imputation by median and mean (for the continuous variables) at the moment."
      ]
    },
    {
      "cell_type": "markdown",
      "metadata": {
        "id": "JFFU4qbhzl_q"
      },
      "source": [
        "### CompleteData class"
      ]
    },
    {
      "cell_type": "code",
      "metadata": {
        "id": "ysLwy19Hzl_q"
      },
      "source": [
        "import numpy as np\n",
        "import pandas as pd    \n",
        "from sklearn.impute import SimpleImputer\n",
        "from sklearn.model_selection import train_test_split \n",
        "\n",
        "def get_column_names(data, cols):\n",
        "    na_count_cols = data[cols].isna().sum()\n",
        "    na_cols = np.array(cols)[na_count_cols>0]\n",
        "    other_cols = np.array(cols)[na_count_cols==0]\n",
        "    all_cols = cols + [x + \"_na\" for x in na_cols]\n",
        "    return (all_cols)\n",
        "\n",
        "def get_imputer(data, cols, strategy, add_indicator):\n",
        "    imputer = SimpleImputer(missing_values = np.nan, strategy = strategy,  \n",
        "                                add_indicator=True)                \n",
        "    imputer.fit(data[cols])\n",
        "    return (imputer)\n",
        "\n",
        "                    \n",
        "class CompleteData:\n",
        "    \"\"\"\n",
        "    \n",
        "    Parameters:\n",
        "        data : Pandas DataFrame object\n",
        "        num : list-like object with names of continuous/numerical variables\n",
        "        cat : list-like object with names of categorical variables\n",
        "        y : str, target name\n",
        "        encoder : str, method for label encoding, \"label\" or \"one_hot\", \"label\" by default\n",
        "        impute_method : str, impute method for continuous variables\n",
        "        split : bool, split data into train and validation set with 25% of data going into validation set, \n",
        "                True by default\n",
        "    \n",
        "    Methods:\n",
        "        new_data(x) : Pre-processes testing set\n",
        "    \n",
        "    \n",
        "    \"\"\"\n",
        "    def __init__(self, data, num, cat, y, encoder = \"label\", impute_method = \"median\", split=True):                             \n",
        "        self.y, self.num, self.cat, self.encoder, self.data = data[y], num, cat, encoder, data        \n",
        "        self.all_cols_num = get_column_names(data, num)\n",
        "        self.imputer_num = get_imputer(data, num, strategy = impute_method, add_indicator=True)\n",
        "        self.categories = data[cat].astype(\"category\")\n",
        "        xs_num = pd.DataFrame(self.imputer_num.transform(data[num]), columns = self.all_cols_num)                                                                 \n",
        "\n",
        "        if encoder == \"label\":\n",
        "            \n",
        "            xs_cat = self.categories.apply(lambda x: x.cat.codes + 1) \n",
        "            self.xs = pd.concat([xs_num, xs_cat], axis=1)\n",
        "            \n",
        "        elif encoder == \"one_hot\":\n",
        "            \n",
        "            dms = pd.get_dummies(self.categories)\n",
        "            self.dms = dms\n",
        "            self.xs = pd.concat([xs_num, dms], axis=1)\n",
        "            \n",
        "        self.col_names = np.array(self.xs.columns)\n",
        "\n",
        "        if split==True:\n",
        "            \n",
        "            if self.y.nunique()<=10:\n",
        "            \n",
        "                self.xs_train, self.xs_valid, self.y_train, self.y_valid = train_test_split(\n",
        "                    self.xs, self.y, stratify = self.y, random_state = 0)\n",
        "            else:\n",
        "                \n",
        "                self.xs_train, self.xs_valid, self.y_train, self.y_valid = train_test_split(\n",
        "                    self.xs, self.y, random_state = 0)\n",
        "                \n",
        "    \n",
        "    def new_data(self, X):\n",
        "        xs_num = pd.DataFrame(self.imputer_num.transform(X[self.num]), columns=self.all_cols_num)                \n",
        "        new_categories = X[cat].astype(\"category\")        \n",
        "        if self.encoder == \"label\":\n",
        "            \n",
        "            for col in self.cat:\n",
        "                \n",
        "                new_categories[col].cat.set_categories(self.categories[col].cat.categories)\n",
        "            xs_cat = new_categories[self.cat].apply(lambda x : x.cat.codes + 1)\n",
        "            \n",
        "        if self.encoder == \"one_hot\":\n",
        "            \n",
        "            dms_test = pd.get_dummies(new_categories)\n",
        "            xs_cat = dms_test.reindex(columns = self.dms.columns, fill_value=0)\n",
        "        return pd.concat([xs_num, xs_cat], axis=1)"
      ],
      "execution_count": null,
      "outputs": []
    },
    {
      "cell_type": "code",
      "metadata": {
        "id": "kYIu9854zl_s",
        "outputId": "03dd3491-364f-4937-9bf5-b101b0271a85"
      },
      "source": [
        "%time houseprice = CompleteData(house, cont_vars, cat_vars, y = \"SalePrice\", encoder=\"one_hot\")"
      ],
      "execution_count": null,
      "outputs": [
        {
          "output_type": "stream",
          "text": [
            "Wall time: 114 ms\n"
          ],
          "name": "stdout"
        }
      ]
    },
    {
      "cell_type": "code",
      "metadata": {
        "id": "lABee6EFzl_u",
        "outputId": "e20e555f-6f28-48c2-b20c-26ca1252d069"
      },
      "source": [
        "houseprice.col_names[:50]"
      ],
      "execution_count": null,
      "outputs": [
        {
          "output_type": "execute_result",
          "data": {
            "text/plain": [
              "array(['Id', 'LotFrontage', 'LotArea', 'YearBuilt', 'YearRemodAdd',\n",
              "       'MasVnrArea', 'BsmtFinSF1', 'BsmtFinSF2', 'BsmtUnfSF',\n",
              "       'TotalBsmtSF', '1stFlrSF', '2ndFlrSF', 'LowQualFinSF', 'GrLivArea',\n",
              "       'GarageYrBlt', 'GarageArea', 'WoodDeckSF', 'OpenPorchSF',\n",
              "       'EnclosedPorch', '3SsnPorch', 'ScreenPorch', 'MiscVal',\n",
              "       'LotFrontage_na', 'MasVnrArea_na', 'GarageYrBlt_na',\n",
              "       'MSZoning_C (all)', 'MSZoning_FV', 'MSZoning_RH', 'MSZoning_RL',\n",
              "       'MSZoning_RM', 'Street_Grvl', 'Street_Pave', 'Alley_Grvl',\n",
              "       'Alley_Pave', 'LotShape_IR1', 'LotShape_IR2', 'LotShape_IR3',\n",
              "       'LotShape_Reg', 'LandContour_Bnk', 'LandContour_HLS',\n",
              "       'LandContour_Low', 'LandContour_Lvl', 'Utilities_AllPub',\n",
              "       'Utilities_NoSeWa', 'LotConfig_Corner', 'LotConfig_CulDSac',\n",
              "       'LotConfig_FR2', 'LotConfig_FR3', 'LotConfig_Inside',\n",
              "       'LandSlope_Gtl'], dtype=object)"
            ]
          },
          "metadata": {
            "tags": []
          },
          "execution_count": 20
        }
      ]
    },
    {
      "cell_type": "code",
      "metadata": {
        "id": "xTlqf81Pzl_x",
        "outputId": "a2b7330e-9f38-4fed-e12f-2f30e027ec37"
      },
      "source": [
        "houseprice.xs.head(10)"
      ],
      "execution_count": null,
      "outputs": [
        {
          "output_type": "execute_result",
          "data": {
            "text/html": [
              "<div>\n",
              "<style scoped>\n",
              "    .dataframe tbody tr th:only-of-type {\n",
              "        vertical-align: middle;\n",
              "    }\n",
              "\n",
              "    .dataframe tbody tr th {\n",
              "        vertical-align: top;\n",
              "    }\n",
              "\n",
              "    .dataframe thead th {\n",
              "        text-align: right;\n",
              "    }\n",
              "</style>\n",
              "<table border=\"1\" class=\"dataframe\">\n",
              "  <thead>\n",
              "    <tr style=\"text-align: right;\">\n",
              "      <th></th>\n",
              "      <th>Id</th>\n",
              "      <th>LotFrontage</th>\n",
              "      <th>LotArea</th>\n",
              "      <th>YearBuilt</th>\n",
              "      <th>YearRemodAdd</th>\n",
              "      <th>MasVnrArea</th>\n",
              "      <th>BsmtFinSF1</th>\n",
              "      <th>BsmtFinSF2</th>\n",
              "      <th>BsmtUnfSF</th>\n",
              "      <th>TotalBsmtSF</th>\n",
              "      <th>...</th>\n",
              "      <th>MoSold_8</th>\n",
              "      <th>MoSold_9</th>\n",
              "      <th>MoSold_10</th>\n",
              "      <th>MoSold_11</th>\n",
              "      <th>MoSold_12</th>\n",
              "      <th>YrSold_2006</th>\n",
              "      <th>YrSold_2007</th>\n",
              "      <th>YrSold_2008</th>\n",
              "      <th>YrSold_2009</th>\n",
              "      <th>YrSold_2010</th>\n",
              "    </tr>\n",
              "  </thead>\n",
              "  <tbody>\n",
              "    <tr>\n",
              "      <th>0</th>\n",
              "      <td>1.0</td>\n",
              "      <td>65.0</td>\n",
              "      <td>8450.0</td>\n",
              "      <td>2003.0</td>\n",
              "      <td>2003.0</td>\n",
              "      <td>196.0</td>\n",
              "      <td>706.0</td>\n",
              "      <td>0.0</td>\n",
              "      <td>150.0</td>\n",
              "      <td>856.0</td>\n",
              "      <td>...</td>\n",
              "      <td>0</td>\n",
              "      <td>0</td>\n",
              "      <td>0</td>\n",
              "      <td>0</td>\n",
              "      <td>0</td>\n",
              "      <td>0</td>\n",
              "      <td>0</td>\n",
              "      <td>1</td>\n",
              "      <td>0</td>\n",
              "      <td>0</td>\n",
              "    </tr>\n",
              "    <tr>\n",
              "      <th>1</th>\n",
              "      <td>2.0</td>\n",
              "      <td>80.0</td>\n",
              "      <td>9600.0</td>\n",
              "      <td>1976.0</td>\n",
              "      <td>1976.0</td>\n",
              "      <td>0.0</td>\n",
              "      <td>978.0</td>\n",
              "      <td>0.0</td>\n",
              "      <td>284.0</td>\n",
              "      <td>1262.0</td>\n",
              "      <td>...</td>\n",
              "      <td>0</td>\n",
              "      <td>0</td>\n",
              "      <td>0</td>\n",
              "      <td>0</td>\n",
              "      <td>0</td>\n",
              "      <td>0</td>\n",
              "      <td>1</td>\n",
              "      <td>0</td>\n",
              "      <td>0</td>\n",
              "      <td>0</td>\n",
              "    </tr>\n",
              "    <tr>\n",
              "      <th>2</th>\n",
              "      <td>3.0</td>\n",
              "      <td>68.0</td>\n",
              "      <td>11250.0</td>\n",
              "      <td>2001.0</td>\n",
              "      <td>2002.0</td>\n",
              "      <td>162.0</td>\n",
              "      <td>486.0</td>\n",
              "      <td>0.0</td>\n",
              "      <td>434.0</td>\n",
              "      <td>920.0</td>\n",
              "      <td>...</td>\n",
              "      <td>0</td>\n",
              "      <td>1</td>\n",
              "      <td>0</td>\n",
              "      <td>0</td>\n",
              "      <td>0</td>\n",
              "      <td>0</td>\n",
              "      <td>0</td>\n",
              "      <td>1</td>\n",
              "      <td>0</td>\n",
              "      <td>0</td>\n",
              "    </tr>\n",
              "    <tr>\n",
              "      <th>3</th>\n",
              "      <td>4.0</td>\n",
              "      <td>60.0</td>\n",
              "      <td>9550.0</td>\n",
              "      <td>1915.0</td>\n",
              "      <td>1970.0</td>\n",
              "      <td>0.0</td>\n",
              "      <td>216.0</td>\n",
              "      <td>0.0</td>\n",
              "      <td>540.0</td>\n",
              "      <td>756.0</td>\n",
              "      <td>...</td>\n",
              "      <td>0</td>\n",
              "      <td>0</td>\n",
              "      <td>0</td>\n",
              "      <td>0</td>\n",
              "      <td>0</td>\n",
              "      <td>1</td>\n",
              "      <td>0</td>\n",
              "      <td>0</td>\n",
              "      <td>0</td>\n",
              "      <td>0</td>\n",
              "    </tr>\n",
              "    <tr>\n",
              "      <th>4</th>\n",
              "      <td>5.0</td>\n",
              "      <td>84.0</td>\n",
              "      <td>14260.0</td>\n",
              "      <td>2000.0</td>\n",
              "      <td>2000.0</td>\n",
              "      <td>350.0</td>\n",
              "      <td>655.0</td>\n",
              "      <td>0.0</td>\n",
              "      <td>490.0</td>\n",
              "      <td>1145.0</td>\n",
              "      <td>...</td>\n",
              "      <td>0</td>\n",
              "      <td>0</td>\n",
              "      <td>0</td>\n",
              "      <td>0</td>\n",
              "      <td>1</td>\n",
              "      <td>0</td>\n",
              "      <td>0</td>\n",
              "      <td>1</td>\n",
              "      <td>0</td>\n",
              "      <td>0</td>\n",
              "    </tr>\n",
              "    <tr>\n",
              "      <th>5</th>\n",
              "      <td>6.0</td>\n",
              "      <td>85.0</td>\n",
              "      <td>14115.0</td>\n",
              "      <td>1993.0</td>\n",
              "      <td>1995.0</td>\n",
              "      <td>0.0</td>\n",
              "      <td>732.0</td>\n",
              "      <td>0.0</td>\n",
              "      <td>64.0</td>\n",
              "      <td>796.0</td>\n",
              "      <td>...</td>\n",
              "      <td>0</td>\n",
              "      <td>0</td>\n",
              "      <td>1</td>\n",
              "      <td>0</td>\n",
              "      <td>0</td>\n",
              "      <td>0</td>\n",
              "      <td>0</td>\n",
              "      <td>0</td>\n",
              "      <td>1</td>\n",
              "      <td>0</td>\n",
              "    </tr>\n",
              "    <tr>\n",
              "      <th>6</th>\n",
              "      <td>7.0</td>\n",
              "      <td>75.0</td>\n",
              "      <td>10084.0</td>\n",
              "      <td>2004.0</td>\n",
              "      <td>2005.0</td>\n",
              "      <td>186.0</td>\n",
              "      <td>1369.0</td>\n",
              "      <td>0.0</td>\n",
              "      <td>317.0</td>\n",
              "      <td>1686.0</td>\n",
              "      <td>...</td>\n",
              "      <td>1</td>\n",
              "      <td>0</td>\n",
              "      <td>0</td>\n",
              "      <td>0</td>\n",
              "      <td>0</td>\n",
              "      <td>0</td>\n",
              "      <td>1</td>\n",
              "      <td>0</td>\n",
              "      <td>0</td>\n",
              "      <td>0</td>\n",
              "    </tr>\n",
              "    <tr>\n",
              "      <th>7</th>\n",
              "      <td>8.0</td>\n",
              "      <td>69.0</td>\n",
              "      <td>10382.0</td>\n",
              "      <td>1973.0</td>\n",
              "      <td>1973.0</td>\n",
              "      <td>240.0</td>\n",
              "      <td>859.0</td>\n",
              "      <td>32.0</td>\n",
              "      <td>216.0</td>\n",
              "      <td>1107.0</td>\n",
              "      <td>...</td>\n",
              "      <td>0</td>\n",
              "      <td>0</td>\n",
              "      <td>0</td>\n",
              "      <td>1</td>\n",
              "      <td>0</td>\n",
              "      <td>0</td>\n",
              "      <td>0</td>\n",
              "      <td>0</td>\n",
              "      <td>1</td>\n",
              "      <td>0</td>\n",
              "    </tr>\n",
              "    <tr>\n",
              "      <th>8</th>\n",
              "      <td>9.0</td>\n",
              "      <td>51.0</td>\n",
              "      <td>6120.0</td>\n",
              "      <td>1931.0</td>\n",
              "      <td>1950.0</td>\n",
              "      <td>0.0</td>\n",
              "      <td>0.0</td>\n",
              "      <td>0.0</td>\n",
              "      <td>952.0</td>\n",
              "      <td>952.0</td>\n",
              "      <td>...</td>\n",
              "      <td>0</td>\n",
              "      <td>0</td>\n",
              "      <td>0</td>\n",
              "      <td>0</td>\n",
              "      <td>0</td>\n",
              "      <td>0</td>\n",
              "      <td>0</td>\n",
              "      <td>1</td>\n",
              "      <td>0</td>\n",
              "      <td>0</td>\n",
              "    </tr>\n",
              "    <tr>\n",
              "      <th>9</th>\n",
              "      <td>10.0</td>\n",
              "      <td>50.0</td>\n",
              "      <td>7420.0</td>\n",
              "      <td>1939.0</td>\n",
              "      <td>1950.0</td>\n",
              "      <td>0.0</td>\n",
              "      <td>851.0</td>\n",
              "      <td>0.0</td>\n",
              "      <td>140.0</td>\n",
              "      <td>991.0</td>\n",
              "      <td>...</td>\n",
              "      <td>0</td>\n",
              "      <td>0</td>\n",
              "      <td>0</td>\n",
              "      <td>0</td>\n",
              "      <td>0</td>\n",
              "      <td>0</td>\n",
              "      <td>0</td>\n",
              "      <td>1</td>\n",
              "      <td>0</td>\n",
              "      <td>0</td>\n",
              "    </tr>\n",
              "  </tbody>\n",
              "</table>\n",
              "<p>10 rows × 383 columns</p>\n",
              "</div>"
            ],
            "text/plain": [
              "     Id  LotFrontage  LotArea  YearBuilt  YearRemodAdd  MasVnrArea  \\\n",
              "0   1.0         65.0   8450.0     2003.0        2003.0       196.0   \n",
              "1   2.0         80.0   9600.0     1976.0        1976.0         0.0   \n",
              "2   3.0         68.0  11250.0     2001.0        2002.0       162.0   \n",
              "3   4.0         60.0   9550.0     1915.0        1970.0         0.0   \n",
              "4   5.0         84.0  14260.0     2000.0        2000.0       350.0   \n",
              "5   6.0         85.0  14115.0     1993.0        1995.0         0.0   \n",
              "6   7.0         75.0  10084.0     2004.0        2005.0       186.0   \n",
              "7   8.0         69.0  10382.0     1973.0        1973.0       240.0   \n",
              "8   9.0         51.0   6120.0     1931.0        1950.0         0.0   \n",
              "9  10.0         50.0   7420.0     1939.0        1950.0         0.0   \n",
              "\n",
              "   BsmtFinSF1  BsmtFinSF2  BsmtUnfSF  TotalBsmtSF  ...  MoSold_8  MoSold_9  \\\n",
              "0       706.0         0.0      150.0        856.0  ...         0         0   \n",
              "1       978.0         0.0      284.0       1262.0  ...         0         0   \n",
              "2       486.0         0.0      434.0        920.0  ...         0         1   \n",
              "3       216.0         0.0      540.0        756.0  ...         0         0   \n",
              "4       655.0         0.0      490.0       1145.0  ...         0         0   \n",
              "5       732.0         0.0       64.0        796.0  ...         0         0   \n",
              "6      1369.0         0.0      317.0       1686.0  ...         1         0   \n",
              "7       859.0        32.0      216.0       1107.0  ...         0         0   \n",
              "8         0.0         0.0      952.0        952.0  ...         0         0   \n",
              "9       851.0         0.0      140.0        991.0  ...         0         0   \n",
              "\n",
              "   MoSold_10  MoSold_11  MoSold_12  YrSold_2006  YrSold_2007  YrSold_2008  \\\n",
              "0          0          0          0            0            0            1   \n",
              "1          0          0          0            0            1            0   \n",
              "2          0          0          0            0            0            1   \n",
              "3          0          0          0            1            0            0   \n",
              "4          0          0          1            0            0            1   \n",
              "5          1          0          0            0            0            0   \n",
              "6          0          0          0            0            1            0   \n",
              "7          0          1          0            0            0            0   \n",
              "8          0          0          0            0            0            1   \n",
              "9          0          0          0            0            0            1   \n",
              "\n",
              "   YrSold_2009  YrSold_2010  \n",
              "0            0            0  \n",
              "1            0            0  \n",
              "2            0            0  \n",
              "3            0            0  \n",
              "4            0            0  \n",
              "5            1            0  \n",
              "6            0            0  \n",
              "7            1            0  \n",
              "8            0            0  \n",
              "9            0            0  \n",
              "\n",
              "[10 rows x 383 columns]"
            ]
          },
          "metadata": {
            "tags": []
          },
          "execution_count": 21
        }
      ]
    },
    {
      "cell_type": "code",
      "metadata": {
        "id": "FtafTN0Dzl_z",
        "outputId": "690c60d4-b798-4f04-e303-e8d8abaa3d2b"
      },
      "source": [
        "%time rf1 = TreeEnsemble(houseprice.xs_train, houseprice.y_train, n_trees=1, sample_sz=1000, min_leaf=5)"
      ],
      "execution_count": null,
      "outputs": [
        {
          "output_type": "stream",
          "text": [
            "Wall time: 2min 35s\n"
          ],
          "name": "stdout"
        }
      ]
    },
    {
      "cell_type": "code",
      "metadata": {
        "id": "Cq4IReOlzl_1",
        "outputId": "a05e70a0-2beb-4eb7-dfa7-d4d67f5909d6"
      },
      "source": [
        "from sklearn.ensemble import RandomForestRegressor\n",
        "from sklearn.metrics import mean_squared_error\n",
        "rf2 = RandomForestRegressor(bootstrap=False, max_samples=1000, n_estimators=1, min_samples_leaf=5)\n",
        "%time rf2.fit(houseprice.xs_train, houseprice.y_train)"
      ],
      "execution_count": null,
      "outputs": [
        {
          "output_type": "stream",
          "text": [
            "Wall time: 28.9 ms\n"
          ],
          "name": "stdout"
        },
        {
          "output_type": "execute_result",
          "data": {
            "text/plain": [
              "RandomForestRegressor(bootstrap=False, max_samples=1000, min_samples_leaf=5,\n",
              "                      n_estimators=1)"
            ]
          },
          "metadata": {
            "tags": []
          },
          "execution_count": 23
        }
      ]
    },
    {
      "cell_type": "markdown",
      "metadata": {
        "id": "xz15dw0Mzl_3"
      },
      "source": [
        "Our algorithm runs much slower than RandomForestRegressor from sklearn but it gives better predictions on the validation set and training set:"
      ]
    },
    {
      "cell_type": "code",
      "metadata": {
        "id": "qe5LfXfwzl_4",
        "outputId": "4e0d0a51-d568-46d2-febf-0eac74d72a4a"
      },
      "source": [
        "def print_rmse(rf, rf_sklearn, xs_valid, xs_train):\n",
        "    print(\"RMSE sklearn:\", \"'\",np.sqrt(mean_squared_error(houseprice.y_valid, rf_sklearn.predict(xs_valid))),\"'\",\n",
        "          \"'\",np.sqrt(mean_squared_error(houseprice.y_train, rf_sklearn.predict(xs_train))), \"'\",\n",
        "          \"\\nRMSE TreeEnsemble:\", \"'\",rf.score(xs_valid, houseprice.y_valid), \"'\", \"'\",  \n",
        "          rf.score(xs_train, houseprice.y_train), \"'\")\n",
        "print_rmse(rf1, rf2, houseprice.xs_valid, houseprice.xs_train)"
      ],
      "execution_count": null,
      "outputs": [
        {
          "output_type": "stream",
          "text": [
            "RMSE sklearn: ' 35782.16081773574 ' ' 21663.58167040615 ' \n",
            "RMSE TreeEnsemble: ' 23636.320865899714 ' ' 14995.482745886802 '\n"
          ],
          "name": "stdout"
        }
      ]
    },
    {
      "cell_type": "markdown",
      "metadata": {
        "id": "Zb9tGStgzl_6"
      },
      "source": [
        "The first column represents the RMSE on the validation set and the second column is RMSE on train set. RMSE is the root-mean-square error and it measures the differences between values predicted by a model and actual values observed. It should be as low as possible in the validation set."
      ]
    },
    {
      "cell_type": "markdown",
      "metadata": {
        "id": "znPX6eWzzl_6"
      },
      "source": [
        "## Permutation feature importance"
      ]
    },
    {
      "cell_type": "markdown",
      "metadata": {
        "id": "PSf2lncfzl_6"
      },
      "source": [
        "We now do feature selection by selecting variables which contributes to a RMSE increase when \"removed\". We use the permutation method that consists in randomly shuffling a variable and then measuring how it affects the RMSE. If the RMSE doesn't vary it would mean that this variable could be removed."
      ]
    },
    {
      "cell_type": "code",
      "metadata": {
        "id": "2MZ-jGIOzl_7"
      },
      "source": [
        "from sklearn import tree\n",
        "import matplotlib.pyplot as plt\n",
        "feature_imp = rf1.feature_imp()"
      ],
      "execution_count": null,
      "outputs": []
    },
    {
      "cell_type": "code",
      "metadata": {
        "id": "7yNXB9T_zl_8",
        "outputId": "18eb45d5-d3be-4db3-b4dd-49923359e515"
      },
      "source": [
        "np.count_nonzero(feature_imp)"
      ],
      "execution_count": null,
      "outputs": [
        {
          "output_type": "execute_result",
          "data": {
            "text/plain": [
              "48"
            ]
          },
          "metadata": {
            "tags": []
          },
          "execution_count": 26
        }
      ]
    },
    {
      "cell_type": "code",
      "metadata": {
        "id": "tNSwRgXszl_-",
        "outputId": "87ede11e-bed3-4544-c115-c1611ed4d2c4"
      },
      "source": [
        "col_nonzero = houseprice.col_names[feature_imp>0]\n",
        "idx = np.argsort(feature_imp[feature_imp>0])[::-1]\n",
        "plt.barh(col_nonzero[idx[:10]], width=feature_imp[feature_imp>0][idx[:10]])\n",
        "plt.xlabel(\"RMSE increase\")\n",
        "plt.show"
      ],
      "execution_count": null,
      "outputs": [
        {
          "output_type": "execute_result",
          "data": {
            "text/plain": [
              "<function matplotlib.pyplot.show(*args, **kw)>"
            ]
          },
          "metadata": {
            "tags": []
          },
          "execution_count": 27
        },
        {
          "output_type": "display_data",
          "data": {
            "image/png": "[encoded data removed]",
            "text/plain": [
              "<Figure size 432x288 with 1 Axes>"
            ]
          },
          "metadata": {
            "tags": [],
            "needs_background": "light"
          }
        }
      ]
    },
    {
      "cell_type": "markdown",
      "metadata": {
        "id": "ScGwtw-dzmAA"
      },
      "source": [
        "We keep the variables that increases RMSE by more than 0 when they are removed. It turns out that we are left with 48 variables. We can see that when removing feature \"GrLiveArea\" the RMSE get a lot bigger. \"GrLiveArea\" is the above grade (ground) living area measured in square feet, it seems to be the most important feature."
      ]
    },
    {
      "cell_type": "code",
      "metadata": {
        "id": "TD4KRCnxzmAB",
        "outputId": "3404647f-2255-4d0a-aef5-406f4ef6d36d"
      },
      "source": [
        "%time rf1 = TreeEnsemble(houseprice.xs_train[col_nonzero], houseprice.y_train, n_trees=1, sample_sz=1000, min_leaf=5)"
      ],
      "execution_count": null,
      "outputs": [
        {
          "output_type": "stream",
          "text": [
            "Wall time: 2.18 s\n"
          ],
          "name": "stdout"
        }
      ]
    },
    {
      "cell_type": "code",
      "metadata": {
        "id": "-Nfh7ofuzmAC",
        "outputId": "49c89d3e-ec66-4903-968f-a345c9e6f9a2"
      },
      "source": [
        "rf2 = RandomForestRegressor(bootstrap=False, max_samples=1000, n_estimators=1, min_samples_leaf=5)\n",
        "%time rf2.fit(houseprice.xs_train[col_nonzero], houseprice.y_train)"
      ],
      "execution_count": null,
      "outputs": [
        {
          "output_type": "stream",
          "text": [
            "Wall time: 12.9 ms\n"
          ],
          "name": "stdout"
        },
        {
          "output_type": "execute_result",
          "data": {
            "text/plain": [
              "RandomForestRegressor(bootstrap=False, max_samples=1000, min_samples_leaf=5,\n",
              "                      n_estimators=1)"
            ]
          },
          "metadata": {
            "tags": []
          },
          "execution_count": 29
        }
      ]
    },
    {
      "cell_type": "code",
      "metadata": {
        "id": "eXcT5RHbzmAE",
        "outputId": "2838af11-14e8-4bfb-b5db-07bfd1852057"
      },
      "source": [
        "print_rmse(rf1, rf2, houseprice.xs_valid[col_nonzero], houseprice.xs_train[col_nonzero])"
      ],
      "execution_count": null,
      "outputs": [
        {
          "output_type": "stream",
          "text": [
            "RMSE sklearn: ' 35178.93574501575 ' ' 22055.461232787755 ' \n",
            "RMSE TreeEnsemble: ' 23582.57994396016 ' ' 14993.21881169821 '\n"
          ],
          "name": "stdout"
        }
      ]
    },
    {
      "cell_type": "markdown",
      "metadata": {
        "id": "-H-p79aSzmAF"
      },
      "source": [
        "The model is now simpler since it has less features and it runs much faster. We went from 383 features to 48 without losing accuracy power."
      ]
    },
    {
      "cell_type": "code",
      "metadata": {
        "id": "GGbWD9-uzmAG",
        "outputId": "fa469eb0-b6b7-4beb-dc51-7d004e39851e"
      },
      "source": [
        "rf = RandomForestRegressor(n_estimators=1, max_depth=3, max_samples=1000, min_samples_leaf=5, bootstrap=False)\n",
        "rf.fit(houseprice.xs_train[col_nonzero], houseprice.y_train)"
      ],
      "execution_count": null,
      "outputs": [
        {
          "output_type": "execute_result",
          "data": {
            "text/plain": [
              "RandomForestRegressor(bootstrap=False, max_depth=3, max_samples=1000,\n",
              "                      min_samples_leaf=5, n_estimators=1)"
            ]
          },
          "metadata": {
            "tags": []
          },
          "execution_count": 31
        }
      ]
    },
    {
      "cell_type": "code",
      "metadata": {
        "id": "ps6hulrDzmAH",
        "outputId": "f1ec385d-9292-4929-ab2d-bd924bfedf8e"
      },
      "source": [
        "plt.figure(figsize=(20,10))\n",
        "_ = tree.plot_tree(rf.estimators_[0], feature_names=col_nonzero, filled=True)"
      ],
      "execution_count": null,
      "outputs": [
        {
          "output_type": "display_data",
          "data": {
            "image/png": "[encoded data removed]",
            "text/plain": [
              "<Figure size 1440x720 with 1 Axes>"
            ]
          },
          "metadata": {
            "tags": [],
            "needs_background": "light"
          }
        }
      ]
    },
    {
      "cell_type": "markdown",
      "metadata": {
        "id": "wUdsrMXrzmAJ"
      },
      "source": [
        "The first split is based on \"GarageCars_3\" and then it splits again on \"GrLiveArea\". When entering the tree, the algorithm will divide houses in two groups on garage size, houses with garage that has the capacity of more than 3 cars and those which has not. Then it will split again based on living area in square feet for the first group and on first floor area for the other group. It will continue to split until there is only 5 observations on a node, this node is called a leaf node. To get prediction for a specific row, we follow the path until we get to a leaf node then the prediction for the row will be the average sale price in this leaf node."
      ]
    },
    {
      "cell_type": "markdown",
      "metadata": {
        "id": "tJuGITS5zmAJ"
      },
      "source": [
        "### Redundant Features"
      ]
    },
    {
      "cell_type": "markdown",
      "metadata": {
        "id": "yrfI5vmszmAJ"
      },
      "source": [
        "Spearman's rank correlation coefficient assesses how well the relationship between two variables can be described using a monotonic function. We use it here instead Pearson correlation coefficient because it can detect non-linear relationship."
      ]
    },
    {
      "cell_type": "code",
      "metadata": {
        "id": "KnsBTD7YzmAK"
      },
      "source": [
        "import scipy as scipy\n",
        "from scipy.cluster import hierarchy as hc\n",
        "import seaborn as sns\n",
        "df_keep_float = houseprice.xs[col_nonzero].select_dtypes(include=\"float\")\n",
        "df_keep_float = df_keep_float.drop(\"LotFrontage_na\", axis=1)\n",
        "corr = np.round(scipy.stats.spearmanr(df_keep_float).correlation, 4)"
      ],
      "execution_count": null,
      "outputs": []
    },
    {
      "cell_type": "code",
      "metadata": {
        "scrolled": true,
        "id": "ccpHXSUFzmAL",
        "outputId": "20f5fc9f-103e-4028-e4db-f62089740dce"
      },
      "source": [
        "plt.figure(figsize = (15,10))\n",
        "ax = sns.heatmap(\n",
        "    corr, \n",
        "    vmin=-1, vmax=1, center=0,\n",
        "    cmap=sns.diverging_palette(20, 220, n=200),\n",
        "    square=True,\n",
        "    xticklabels= df_keep_float.columns,\n",
        "    yticklabels= df_keep_float.columns\n",
        ")\n",
        "ax.set_xticklabels(\n",
        "    ax.get_xticklabels(),\n",
        "    rotation=45,\n",
        "    horizontalalignment='right'\n",
        ")\n",
        "plt.show()"
      ],
      "execution_count": null,
      "outputs": [
        {
          "output_type": "display_data",
          "data": {
            "image/png": "[encoded data removed]",
            "text/plain": [
              "<Figure size 1080x720 with 2 Axes>"
            ]
          },
          "metadata": {
            "tags": [],
            "needs_background": "light"
          }
        }
      ]
    },
    {
      "cell_type": "markdown",
      "metadata": {
        "id": "EtKnvozwzmAN"
      },
      "source": [
        "BsmtFinSF1 is highly correlated with BsmtUnfSF and GrageYrBlt is greatly correlated with YearBuilt, we could remove one of them. We fit 4 model each time without one of those features and check RMSE."
      ]
    },
    {
      "cell_type": "code",
      "metadata": {
        "id": "vdc9pxRYzmAN"
      },
      "source": [
        "corr_var = [\"BsmtFinSF1\", \"BsmtUnfSF\", \"GarageYrBlt\", \"YearBuilt\"]\n",
        "RMSE = []\n",
        "for c in corr_var:\n",
        "    corr_copy = list(col_nonzero); corr_copy.remove(c)\n",
        "    RMSE.append(TreeEnsemble(houseprice.xs_train[corr_copy], houseprice.y_train, n_trees=1, sample_sz=1000, min_leaf=5)\n",
        "               .score(houseprice.xs_valid[corr_copy], houseprice.y_valid))\n"
      ],
      "execution_count": null,
      "outputs": []
    },
    {
      "cell_type": "code",
      "metadata": {
        "id": "aDL642XuzmAP",
        "outputId": "89cb05c8-4759-4072-8a94-ce8d4ba0ebd7"
      },
      "source": [
        "RMSE"
      ],
      "execution_count": null,
      "outputs": [
        {
          "output_type": "execute_result",
          "data": {
            "text/plain": [
              "[24485.778465081345, 23541.866473640523, 23328.82886763922, 23835.638620945272]"
            ]
          },
          "metadata": {
            "tags": []
          },
          "execution_count": 39
        }
      ]
    },
    {
      "cell_type": "markdown",
      "metadata": {
        "id": "EjnujsuUzmAQ"
      },
      "source": [
        "It's better to remove \"BsmtUnfSF\" and \"GarageYrBlt\" as ignoring them doesn't lead to an increase in RMSE in validation set, in fact it gets lower."
      ]
    },
    {
      "cell_type": "code",
      "metadata": {
        "id": "AxeEkNDezmAR"
      },
      "source": [
        "best_col = list(col_nonzero.copy()); best_col.remove(\"BsmtUnfSF\"); best_col.remove(\"GarageYrBlt\")"
      ],
      "execution_count": null,
      "outputs": []
    },
    {
      "cell_type": "markdown",
      "metadata": {
        "id": "AfD4QKv0zmAT"
      },
      "source": [
        "## Confidence based intervals"
      ]
    },
    {
      "cell_type": "code",
      "metadata": {
        "id": "4PXJ8S5IzmAU",
        "outputId": "ddaa32ac-dc2c-4adf-9c3e-d8e2f8d1c61d"
      },
      "source": [
        "%time rf1 = TreeEnsemble(houseprice.xs_train[best_col], houseprice.y_train, n_trees=20, sample_sz=1000, min_leaf=5)"
      ],
      "execution_count": null,
      "outputs": [
        {
          "output_type": "stream",
          "text": [
            "Wall time: 35 s\n"
          ],
          "name": "stdout"
        }
      ]
    },
    {
      "cell_type": "markdown",
      "metadata": {
        "id": "wKWRE2bezmAV"
      },
      "source": [
        "We add more trees to the alogrithm and investigate confidence of predictions on the GarageCars feature. "
      ]
    },
    {
      "cell_type": "code",
      "metadata": {
        "id": "ndXIwwQ2zmAW"
      },
      "source": [
        "xs = houseprice.categories\n",
        "xs[\"std_pred\"] = rf1.confidence_std(houseprice.xs[best_col]); xs[\"pred\"] = rf1.predict(houseprice.xs[best_col]);\n",
        "xs[\"SalePrice\"] = houseprice.y; xs[\"std/pred\"] = xs[\"std_pred\"]/xs[\"pred\"]"
      ],
      "execution_count": null,
      "outputs": []
    },
    {
      "cell_type": "code",
      "metadata": {
        "id": "zwNzb4zBzmAY",
        "outputId": "da6b4043-e04d-4dee-fa1c-1e8bce3e91a5"
      },
      "source": [
        "xs[[\"GarageCars\",\"SalePrice\", \"pred\", \"std_pred\", \"std/pred\"]].head(10)"
      ],
      "execution_count": null,
      "outputs": [
        {
          "output_type": "execute_result",
          "data": {
            "text/html": [
              "<div>\n",
              "<style scoped>\n",
              "    .dataframe tbody tr th:only-of-type {\n",
              "        vertical-align: middle;\n",
              "    }\n",
              "\n",
              "    .dataframe tbody tr th {\n",
              "        vertical-align: top;\n",
              "    }\n",
              "\n",
              "    .dataframe thead th {\n",
              "        text-align: right;\n",
              "    }\n",
              "</style>\n",
              "<table border=\"1\" class=\"dataframe\">\n",
              "  <thead>\n",
              "    <tr style=\"text-align: right;\">\n",
              "      <th></th>\n",
              "      <th>GarageCars</th>\n",
              "      <th>SalePrice</th>\n",
              "      <th>pred</th>\n",
              "      <th>std_pred</th>\n",
              "      <th>std/pred</th>\n",
              "    </tr>\n",
              "  </thead>\n",
              "  <tbody>\n",
              "    <tr>\n",
              "      <th>0</th>\n",
              "      <td>2</td>\n",
              "      <td>208500</td>\n",
              "      <td>203664.367605</td>\n",
              "      <td>4123.434076</td>\n",
              "      <td>0.020246</td>\n",
              "    </tr>\n",
              "    <tr>\n",
              "      <th>1</th>\n",
              "      <td>2</td>\n",
              "      <td>181500</td>\n",
              "      <td>169004.101732</td>\n",
              "      <td>16599.289419</td>\n",
              "      <td>0.098218</td>\n",
              "    </tr>\n",
              "    <tr>\n",
              "      <th>2</th>\n",
              "      <td>2</td>\n",
              "      <td>223500</td>\n",
              "      <td>225585.800072</td>\n",
              "      <td>9438.158346</td>\n",
              "      <td>0.041838</td>\n",
              "    </tr>\n",
              "    <tr>\n",
              "      <th>3</th>\n",
              "      <td>3</td>\n",
              "      <td>140000</td>\n",
              "      <td>157429.007937</td>\n",
              "      <td>10785.686658</td>\n",
              "      <td>0.068511</td>\n",
              "    </tr>\n",
              "    <tr>\n",
              "      <th>4</th>\n",
              "      <td>3</td>\n",
              "      <td>250000</td>\n",
              "      <td>280119.684217</td>\n",
              "      <td>21874.691202</td>\n",
              "      <td>0.078091</td>\n",
              "    </tr>\n",
              "    <tr>\n",
              "      <th>5</th>\n",
              "      <td>2</td>\n",
              "      <td>143000</td>\n",
              "      <td>167889.734713</td>\n",
              "      <td>11241.329364</td>\n",
              "      <td>0.066957</td>\n",
              "    </tr>\n",
              "    <tr>\n",
              "      <th>6</th>\n",
              "      <td>2</td>\n",
              "      <td>307000</td>\n",
              "      <td>322763.670512</td>\n",
              "      <td>17617.261617</td>\n",
              "      <td>0.054583</td>\n",
              "    </tr>\n",
              "    <tr>\n",
              "      <th>7</th>\n",
              "      <td>2</td>\n",
              "      <td>200000</td>\n",
              "      <td>199286.704708</td>\n",
              "      <td>23011.216565</td>\n",
              "      <td>0.115468</td>\n",
              "    </tr>\n",
              "    <tr>\n",
              "      <th>8</th>\n",
              "      <td>2</td>\n",
              "      <td>129900</td>\n",
              "      <td>151348.470455</td>\n",
              "      <td>19024.419774</td>\n",
              "      <td>0.125699</td>\n",
              "    </tr>\n",
              "    <tr>\n",
              "      <th>9</th>\n",
              "      <td>1</td>\n",
              "      <td>118000</td>\n",
              "      <td>112684.885480</td>\n",
              "      <td>10450.451171</td>\n",
              "      <td>0.092740</td>\n",
              "    </tr>\n",
              "  </tbody>\n",
              "</table>\n",
              "</div>"
            ],
            "text/plain": [
              "  GarageCars  SalePrice           pred      std_pred  std/pred\n",
              "0          2     208500  203664.367605   4123.434076  0.020246\n",
              "1          2     181500  169004.101732  16599.289419  0.098218\n",
              "2          2     223500  225585.800072   9438.158346  0.041838\n",
              "3          3     140000  157429.007937  10785.686658  0.068511\n",
              "4          3     250000  280119.684217  21874.691202  0.078091\n",
              "5          2     143000  167889.734713  11241.329364  0.066957\n",
              "6          2     307000  322763.670512  17617.261617  0.054583\n",
              "7          2     200000  199286.704708  23011.216565  0.115468\n",
              "8          2     129900  151348.470455  19024.419774  0.125699\n",
              "9          1     118000  112684.885480  10450.451171  0.092740"
            ]
          },
          "metadata": {
            "tags": []
          },
          "execution_count": 43
        }
      ]
    },
    {
      "cell_type": "markdown",
      "metadata": {
        "id": "4EXzrBtEzmAa"
      },
      "source": [
        "We see that sale price predictions are not too far from actual sale price but it's not perfectly accurate. For each row we can see how confident we are at predicting it. \"std_pred\" is the standard deviation of predictions among trees."
      ]
    },
    {
      "cell_type": "code",
      "metadata": {
        "id": "cIeZTrAuzmAa",
        "outputId": "2b791399-8d55-4a28-e0cd-0675c4861d3f"
      },
      "source": [
        "garagecars = xs[[\"GarageCars\",\"SalePrice\", \"pred\", \"std_pred\", \"std/pred\"]].groupby(\"GarageCars\", as_index=False).mean()\n",
        "garagecars"
      ],
      "execution_count": null,
      "outputs": [
        {
          "output_type": "execute_result",
          "data": {
            "text/html": [
              "<div>\n",
              "<style scoped>\n",
              "    .dataframe tbody tr th:only-of-type {\n",
              "        vertical-align: middle;\n",
              "    }\n",
              "\n",
              "    .dataframe tbody tr th {\n",
              "        vertical-align: top;\n",
              "    }\n",
              "\n",
              "    .dataframe thead th {\n",
              "        text-align: right;\n",
              "    }\n",
              "</style>\n",
              "<table border=\"1\" class=\"dataframe\">\n",
              "  <thead>\n",
              "    <tr style=\"text-align: right;\">\n",
              "      <th></th>\n",
              "      <th>GarageCars</th>\n",
              "      <th>SalePrice</th>\n",
              "      <th>pred</th>\n",
              "      <th>std_pred</th>\n",
              "      <th>std/pred</th>\n",
              "    </tr>\n",
              "  </thead>\n",
              "  <tbody>\n",
              "    <tr>\n",
              "      <th>0</th>\n",
              "      <td>0</td>\n",
              "      <td>103317.283951</td>\n",
              "      <td>108656.889644</td>\n",
              "      <td>12178.528139</td>\n",
              "      <td>0.112121</td>\n",
              "    </tr>\n",
              "    <tr>\n",
              "      <th>1</th>\n",
              "      <td>1</td>\n",
              "      <td>128116.688347</td>\n",
              "      <td>128319.235864</td>\n",
              "      <td>10520.764903</td>\n",
              "      <td>0.083155</td>\n",
              "    </tr>\n",
              "    <tr>\n",
              "      <th>2</th>\n",
              "      <td>2</td>\n",
              "      <td>183851.663835</td>\n",
              "      <td>183624.628073</td>\n",
              "      <td>12440.694084</td>\n",
              "      <td>0.068614</td>\n",
              "    </tr>\n",
              "    <tr>\n",
              "      <th>3</th>\n",
              "      <td>3</td>\n",
              "      <td>309636.121547</td>\n",
              "      <td>307683.784489</td>\n",
              "      <td>22261.963689</td>\n",
              "      <td>0.073928</td>\n",
              "    </tr>\n",
              "    <tr>\n",
              "      <th>4</th>\n",
              "      <td>4</td>\n",
              "      <td>192655.800000</td>\n",
              "      <td>187490.473663</td>\n",
              "      <td>19389.175065</td>\n",
              "      <td>0.104102</td>\n",
              "    </tr>\n",
              "  </tbody>\n",
              "</table>\n",
              "</div>"
            ],
            "text/plain": [
              "  GarageCars      SalePrice           pred      std_pred  std/pred\n",
              "0          0  103317.283951  108656.889644  12178.528139  0.112121\n",
              "1          1  128116.688347  128319.235864  10520.764903  0.083155\n",
              "2          2  183851.663835  183624.628073  12440.694084  0.068614\n",
              "3          3  309636.121547  307683.784489  22261.963689  0.073928\n",
              "4          4  192655.800000  187490.473663  19389.175065  0.104102"
            ]
          },
          "metadata": {
            "tags": []
          },
          "execution_count": 44
        }
      ]
    },
    {
      "cell_type": "markdown",
      "metadata": {
        "id": "6pKIhuZ8zmAc"
      },
      "source": [
        "The model gives predictions that are less accurate (relatively speaking as a ratio of total price) for houses having a 4 and 0 car capacity garage. This is because those groups are small as we can see below."
      ]
    },
    {
      "cell_type": "code",
      "metadata": {
        "id": "LaBX6VSZzmAc",
        "outputId": "98367df8-874b-4aec-8499-9a741b353f4a"
      },
      "source": [
        "xs.GarageCars.value_counts().plot.barh()"
      ],
      "execution_count": null,
      "outputs": [
        {
          "output_type": "execute_result",
          "data": {
            "text/plain": [
              "<matplotlib.axes._subplots.AxesSubplot at 0x2683ecccbe0>"
            ]
          },
          "metadata": {
            "tags": []
          },
          "execution_count": 45
        },
        {
          "output_type": "display_data",
          "data": {
            "image/png": "[encoded data removed]",
            "text/plain": [
              "<Figure size 432x288 with 1 Axes>"
            ]
          },
          "metadata": {
            "tags": [],
            "needs_background": "light"
          }
        }
      ]
    },
    {
      "cell_type": "code",
      "metadata": {
        "id": "_DqPVMcBzmAe",
        "outputId": "34ea5c71-7091-40f4-b209-a015f9057e04"
      },
      "source": [
        "garagecars.plot('GarageCars', 'pred', 'barh', xerr='std_pred', alpha=0.6);"
      ],
      "execution_count": null,
      "outputs": [
        {
          "output_type": "display_data",
          "data": {
            "image/png": "[encoded data removed]",
            "text/plain": [
              "<Figure size 432x288 with 1 Axes>"
            ]
          },
          "metadata": {
            "tags": [],
            "needs_background": "light"
          }
        }
      ]
    },
    {
      "cell_type": "markdown",
      "metadata": {
        "id": "yFBtZsFYzmAh"
      },
      "source": [
        "## Partial dependance"
      ]
    },
    {
      "cell_type": "markdown",
      "metadata": {
        "id": "lTBibKLLzmAh"
      },
      "source": [
        "Let's plot again feature importance to see if things have changed"
      ]
    },
    {
      "cell_type": "code",
      "metadata": {
        "id": "-iahhzYpzmAi"
      },
      "source": [
        "feature_imp = rf1.feature_imp()"
      ],
      "execution_count": null,
      "outputs": []
    },
    {
      "cell_type": "code",
      "metadata": {
        "id": "k_IoNaUczmAk",
        "outputId": "408a382c-da5c-4957-d0d1-7497302c2833"
      },
      "source": [
        "idx = np.argsort(feature_imp)[::-1]\n",
        "plt.barh(np.array(best_col)[idx[:10]], width=feature_imp[idx[:10]])\n",
        "plt.xlabel(\"RMSE increase\")\n",
        "plt.show"
      ],
      "execution_count": null,
      "outputs": [
        {
          "output_type": "execute_result",
          "data": {
            "text/plain": [
              "<function matplotlib.pyplot.show(*args, **kw)>"
            ]
          },
          "metadata": {
            "tags": []
          },
          "execution_count": 48
        },
        {
          "output_type": "display_data",
          "data": {
            "image/png": "[encoded data removed]",
            "text/plain": [
              "<Figure size 432x288 with 1 Axes>"
            ]
          },
          "metadata": {
            "tags": [],
            "needs_background": "light"
          }
        }
      ]
    },
    {
      "cell_type": "markdown",
      "metadata": {
        "id": "SasLrv_SzmAm"
      },
      "source": [
        "Now \"YearBuilt\" is on the top 3 most important feature."
      ]
    },
    {
      "cell_type": "code",
      "metadata": {
        "id": "yBIJ3Uo2zmAm",
        "outputId": "a7402561-3963-49c7-cfbd-2d6b8471dc0c"
      },
      "source": [
        "plt.scatter(houseprice.xs[\"YearBuilt\"], houseprice.y, alpha=0.3)\n",
        "plt.show()"
      ],
      "execution_count": null,
      "outputs": [
        {
          "output_type": "display_data",
          "data": {
            "image/png": "[encoded data removed]",
            "text/plain": [
              "<Figure size 432x288 with 1 Axes>"
            ]
          },
          "metadata": {
            "tags": [],
            "needs_background": "light"
          }
        }
      ]
    },
    {
      "cell_type": "markdown",
      "metadata": {
        "id": "jaGDdgj1zmAo"
      },
      "source": [
        "What if we wanted to know what is the relationship between \"SalePrice\" and \"YearBuilt\" all other thing being equal. If we sold an house that has the same number of room, the same kitchen quality, the same car capacity garage and so on, would this house cost the same if it were sold in the 90s vs 2010? We can answer using partial dependance. We are going to pick a random subset of our dataset and then fill the \"YearBuilt\" column by a constant value equal to the earliest year (1872) and we predict the house price. We repeat this for every year until latest year (2010)."
      ]
    },
    {
      "cell_type": "code",
      "metadata": {
        "id": "ZJPOfcPizmAp"
      },
      "source": [
        "yearpred = rf1.partial_dependence(\"YearBuilt\", 500)"
      ],
      "execution_count": null,
      "outputs": []
    },
    {
      "cell_type": "code",
      "metadata": {
        "id": "CNwaAEttzmAr"
      },
      "source": [
        "yearpred = yearpred.iloc[:, 11:]"
      ],
      "execution_count": null,
      "outputs": []
    },
    {
      "cell_type": "markdown",
      "metadata": {
        "id": "X13kognFzmAt"
      },
      "source": [
        "We start from the year 1920."
      ]
    },
    {
      "cell_type": "code",
      "metadata": {
        "id": "yde7SjTazmAu",
        "outputId": "53610be8-b76f-4d6a-cbcb-fc13f35e082a"
      },
      "source": [
        "yearpred.median().plot(kind = 'line', legend=False, figsize = (10,5), title = \"Median house price over time\")\n",
        "plt.show()"
      ],
      "execution_count": null,
      "outputs": [
        {
          "output_type": "display_data",
          "data": {
            "image/png": "[encoded data removed]",
            "text/plain": [
              "<Figure size 720x360 with 1 Axes>"
            ]
          },
          "metadata": {
            "tags": [],
            "needs_background": "light"
          }
        }
      ]
    },
    {
      "cell_type": "markdown",
      "metadata": {
        "id": "Ohbg2KdGzmAw"
      },
      "source": [
        "We see a pattern that didn't appear in the univariate plot: median house price increase in a linear fashion until 1980 then there is a huge spike in price, finally few years later it gets back to a linear relationship."
      ]
    },
    {
      "cell_type": "markdown",
      "metadata": {
        "id": "uCU_FdC_zmAw"
      },
      "source": [
        "We can plot the trajectory price of some houses to see what it would have cost if it were sold in different years."
      ]
    },
    {
      "cell_type": "code",
      "metadata": {
        "id": "ejJuQMrFzmAw",
        "outputId": "5be2b09d-630b-4ddd-db22-772e482a8c60"
      },
      "source": [
        "yearpred[:2].T.plot(kind=\"line\", figsize = (10, 5))\n",
        "plt.show()"
      ],
      "execution_count": null,
      "outputs": [
        {
          "output_type": "display_data",
          "data": {
            "image/png": "[encoded data removed]",
            "text/plain": [
              "<Figure size 720x360 with 1 Axes>"
            ]
          },
          "metadata": {
            "tags": [],
            "needs_background": "light"
          }
        }
      ]
    },
    {
      "cell_type": "markdown",
      "metadata": {
        "id": "wYDuzykdzmAz"
      },
      "source": [
        "# Final model"
      ]
    },
    {
      "cell_type": "code",
      "metadata": {
        "scrolled": true,
        "id": "3JFHshxLzmAz",
        "outputId": "c1686306-e8b2-4a5b-d485-ad805879c14b"
      },
      "source": [
        "%time rf1 = TreeEnsemble(houseprice.xs_train[best_col], houseprice.y_train, sample_sz=1000, n_trees = 100, min_leaf=10)"
      ],
      "execution_count": null,
      "outputs": [
        {
          "output_type": "stream",
          "text": [
            "Wall time: 2min 35s\n"
          ],
          "name": "stdout"
        },
        {
          "output_type": "execute_result",
          "data": {
            "text/plain": [
              "RandomForestRegressor(bootstrap=False, max_samples=1000, min_samples_leaf=10)"
            ]
          },
          "metadata": {
            "tags": []
          },
          "execution_count": 212
        }
      ]
    },
    {
      "cell_type": "code",
      "metadata": {
        "scrolled": true,
        "id": "8adizjr8zmA1",
        "outputId": "518e6dce-56d3-4b5e-d329-a90df9657c4a"
      },
      "source": [
        "rf2 = RandomForestRegressor(n_estimators=100, max_samples=1000, bootstrap=False, min_samples_leaf= 10)\n",
        "%time rf2.fit(houseprice.xs_train[best_col], houseprice.y_train)"
      ],
      "execution_count": null,
      "outputs": [
        {
          "output_type": "stream",
          "text": [
            "Wall time: 727 ms\n"
          ],
          "name": "stdout"
        },
        {
          "output_type": "execute_result",
          "data": {
            "text/plain": [
              "RandomForestRegressor(bootstrap=False, max_samples=1000, min_samples_leaf=10)"
            ]
          },
          "metadata": {
            "tags": []
          },
          "execution_count": 214
        }
      ]
    },
    {
      "cell_type": "code",
      "metadata": {
        "id": "oUzj3PNDzmA3",
        "outputId": "c5f723ae-5119-4e10-e49c-55f8419d31b7"
      },
      "source": [
        "print_rmse(rf1, rf2, houseprice.xs_valid[best_col], houseprice.xs_train[best_col])"
      ],
      "execution_count": null,
      "outputs": [
        {
          "output_type": "stream",
          "text": [
            "RMSE sklearn: ' 39253.14650944773 ' ' 28132.72576651877 ' \n",
            "RMSE TreeEnsemble: ' 18667.163857370182 ' ' 11731.903165430544 '\n"
          ],
          "name": "stdout"
        }
      ]
    },
    {
      "cell_type": "markdown",
      "metadata": {
        "id": "pJ3E4H5dzmA4"
      },
      "source": [
        "A limit of the random forest algorithm is that it can't extrapolate at all but it gives good enough prediction. On average our model predictions are off by about 19000$."
      ]
    }
  ]
}